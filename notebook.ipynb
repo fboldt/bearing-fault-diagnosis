{
 "cells": [
  {
   "cell_type": "markdown",
   "metadata": {},
   "source": [
    "# CWRU"
   ]
  },
  {
   "cell_type": "code",
   "execution_count": 7,
   "metadata": {},
   "outputs": [],
   "source": [
    "def list_of_bearings_48k():\n",
    "    return [\n",
    "        # (\"N.000.NN_0&12000\",\"97.mat\"),        (\"N.000.NN_1&12000\",\"98.mat\"),        (\"N.000.NN_2&12000\",\"99.mat\"),        (\"N.000.NN_3&12000\",\"100.mat\"),\n",
    "        (\"I.007.DE_0&48000\",\"109.mat\"),       (\"I.007.DE_1&48000\",\"110.mat\"),       (\"I.007.DE_2&48000\",\"111.mat\"),       (\"I.007.DE_3&48000\",\"112.mat\"),\n",
    "        (\"B.007.DE_0&48000\",\"122.mat\"),       (\"B.007.DE_1&48000\",\"123.mat\"),       (\"B.007.DE_2&48000\",\"124.mat\"),       (\"B.007.DE_3&48000\",\"125.mat\"),    \n",
    "        (\"O.007.DE.@6_0&48000\",\"135.mat\"),    (\"O.007.DE.@6_1&48000\",\"136.mat\"),    (\"O.007.DE.@6_2&48000\",\"137.mat\"),    (\"O.007.DE.@6_3&48000\",\"138.mat\"),    \n",
    "        (\"O.007.DE.@3_0&48000\",\"148.mat\"),    (\"O.007.DE.@3_1&48000\",\"149.mat\"),    (\"O.007.DE.@3_2&48000\",\"150.mat\"),    (\"O.007.DE.@3_3&48000\",\"151.mat\"),    \n",
    "        (\"O.007.DE.@12_0&48000\",\"161.mat\"),   (\"O.007.DE.@12_1&48000\",\"162.mat\"),   (\"O.007.DE.@12_2&48000\",\"163.mat\"),   (\"O.007.DE.@12_3&48000\",\"164.mat\"),    \n",
    "        (\"I.014.DE_0&48000\",\"174.mat\"),       (\"I.014.DE_1&48000\",\"175.mat\"),       (\"I.014.DE_2&48000\",\"176.mat\"),       (\"I.014.DE_3&48000\",\"177.mat\"),    \n",
    "        (\"B.014.DE_0&48000\",\"189.mat\"),       (\"B.014.DE_1&48000\",\"190.mat\"),       (\"B.014.DE_2&48000\",\"191.mat\"),       (\"B.014.DE_3&48000\",\"192.mat\"),    \n",
    "        (\"O.014.DE.@6_0&48000\",\"201.mat\"),    (\"O.014.DE.@6_1&48000\",\"202.mat\"),    (\"O.014.DE.@6_2&48000\",\"203.mat\"),    (\"O.014.DE.@6_3&48000\",\"204.mat\"),    \n",
    "        (\"I.021.DE_0&48000\",\"213.mat\"),       (\"I.021.DE_1&48000\",\"214.mat\"),       (\"I.021.DE_2&48000\",\"215.mat\"),       (\"I.021.DE_3&48000\",\"217.mat\"),    \n",
    "        (\"B.021.DE_0&48000\",\"226.mat\"),       (\"B.021.DE_1&48000\",\"227.mat\"),       (\"B.021.DE_2&48000\",\"228.mat\"),       (\"B.021.DE_3&48000\",\"229.mat\"),    \n",
    "        (\"O.021.DE.@6_0&48000\",\"238.mat\"),    (\"O.021.DE.@6_1&48000\",\"239.mat\"),    (\"O.021.DE.@6_2&48000\",\"240.mat\"),    (\"O.021.DE.@6_3&48000\",\"241.mat\"),    \n",
    "        (\"O.021.DE.@3_0&48000\",\"250.mat\"),    (\"O.021.DE.@3_1&48000\",\"251.mat\"),    (\"O.021.DE.@3_2&48000\",\"252.mat\"),    (\"O.021.DE.@3_3&48000\",\"253.mat\"),    \n",
    "        (\"O.021.DE.@12_0&48000\",\"262.mat\"),   (\"O.021.DE.@12_1&48000\",\"263.mat\"),   (\"O.021.DE.@12_2&48000\",\"264.mat\"),   (\"O.021.DE.@12_3&48000\",\"265.mat\"),    \n",
    "    ]\n",
    "\n",
    "def list_of_bearings_12k():\n",
    "    return [\n",
    "    (\"N.000.NN_0&12000\",\"97.mat\"),        (\"N.000.NN_1&12000\",\"98.mat\"),        (\"N.000.NN_2&12000\",\"99.mat\"),        (\"N.000.NN_3&12000\",\"100.mat\"),\n",
    "    (\"I.007.DE_0&12000\",\"105.mat\"),       (\"I.007.DE_1&12000\",\"106.mat\"),       (\"I.007.DE_2&12000\",\"107.mat\"),       (\"I.007.DE_3&12000\",\"108.mat\"),\n",
    "    (\"B.007.DE_0&12000\",\"118.mat\"),       (\"B.007.DE_1&12000\",\"119.mat\"),       (\"B.007.DE_2&12000\",\"120.mat\"),       (\"B.007.DE_3&12000\",\"121.mat\"),    \n",
    "    (\"O.007.DE.@6_0&12000\",\"130.mat\"),    (\"O.007.DE.@6_1&12000\",\"131.mat\"),    (\"O.007.DE.@6_2&12000\",\"132.mat\"),    (\"O.007.DE.@6_3&12000\",\"133.mat\"),    \n",
    "    (\"O.007.DE.@3_0&12000\",\"144.mat\"),    (\"O.007.DE.@3_1&12000\",\"145.mat\"),    (\"O.007.DE.@3_2&12000\",\"146.mat\"),    (\"O.007.DE.@3_3&12000\",\"147.mat\"),    \n",
    "    (\"O.007.DE.@12_0&12000\",\"156.mat\"),   (\"O.007.DE.@12_1&12000\",\"158.mat\"),   (\"O.007.DE.@12_2&12000\",\"159.mat\"),   (\"O.007.DE.@12_3&12000\",\"160.mat\"),    \n",
    "    (\"I.014.DE_0&12000\",\"169.mat\"),       (\"I.014.DE_1&12000\",\"170.mat\"),       (\"I.014.DE_2&12000\",\"171.mat\"),       (\"I.014.DE_3&12000\",\"172.mat\"),    \n",
    "    (\"B.014.DE_0&12000\",\"185.mat\"),       (\"B.014.DE_1&12000\",\"186.mat\"),       (\"B.014.DE_2&12000\",\"187.mat\"),       (\"B.014.DE_3&12000\",\"188.mat\"),    \n",
    "    (\"O.014.DE.@6_0&12000\",\"197.mat\"),    (\"O.014.DE.@6_1&12000\",\"198.mat\"),    (\"O.014.DE.@6_2&12000\",\"199.mat\"),    (\"O.014.DE.@6_3&12000\",\"200.mat\"),    \n",
    "    (\"I.021.DE_0&12000\",\"209.mat\"),       (\"I.021.DE_1&12000\",\"210.mat\"),       (\"I.021.DE_2&12000\",\"211.mat\"),       (\"I.021.DE_3&12000\",\"212.mat\"),    \n",
    "    (\"B.021.DE_0&12000\",\"222.mat\"),       (\"B.021.DE_1&12000\",\"223.mat\"),       (\"B.021.DE_2&12000\",\"224.mat\"),       (\"B.021.DE_3&12000\",\"225.mat\"),    \n",
    "    (\"O.021.DE.@6_0&12000\",\"234.mat\"),    (\"O.021.DE.@6_1&12000\",\"235.mat\"),    (\"O.021.DE.@6_2&12000\",\"236.mat\"),    (\"O.021.DE.@6_3&12000\",\"237.mat\"),    \n",
    "    (\"O.021.DE.@3_0&12000\",\"246.mat\"),    (\"O.021.DE.@3_1&12000\",\"247.mat\"),    (\"O.021.DE.@3_2&12000\",\"248.mat\"),    (\"O.021.DE.@3_3&12000\",\"249.mat\"),    \n",
    "    (\"O.021.DE.@12_0&12000\",\"258.mat\"),   (\"O.021.DE.@12_1&12000\",\"259.mat\"),   (\"O.021.DE.@12_2&12000\",\"260.mat\"),   (\"O.021.DE.@12_3&12000\",\"261.mat\"),    \n",
    "    (\"I.028.DE_0&12000\",\"3001.mat\"),      (\"I.028.DE_1&12000\",\"3002.mat\"),      (\"I.028.DE_2&12000\",\"3003.mat\"),      (\"I.028.DE_3&12000\",\"3004.mat\"),    \n",
    "    (\"B.028.DE_0&12000\",\"3005.mat\"),      (\"B.028.DE_1&12000\",\"3006.mat\"),      (\"B.028.DE_2&12000\",\"3007.mat\"),      (\"B.028.DE_3&12000\",\"3008.mat\"),\n",
    "    (\"I.007.FE_0&12000\",\"278.mat\"),       (\"I.007.FE_1&12000\",\"279.mat\"),       (\"I.007.FE_2&12000\",\"280.mat\"),       (\"I.007.FE_3&12000\",\"281.mat\"),    \n",
    "    (\"B.007.FE_0&12000\",\"282.mat\"),       (\"B.007.FE_1&12000\",\"283.mat\"),       (\"B.007.FE_2&12000\",\"284.mat\"),       (\"B.007.FE_3&12000\",\"285.mat\"),    \n",
    "    (\"O.007.FE.@6_0&12000\",\"294.mat\"),    (\"O.007.FE.@6_1&12000\",\"295.mat\"),    (\"O.007.FE.@6_2&12000\",\"296.mat\"),    (\"O.007.FE.@6_3&12000\",\"297.mat\"),    \n",
    "    (\"O.007.FE.@3_0&12000\",\"298.mat\"),    (\"O.007.FE.@3_1&12000\",\"299.mat\"),    (\"O.007.FE.@3_2&12000\",\"300.mat\"),    (\"O.007.FE.@3_3&12000\",\"301.mat\"),    \n",
    "    (\"O.007.FE.@12_0&12000\",\"302.mat\"),   (\"O.007.FE.@12_1&12000\",\"305.mat\"),   (\"O.007.FE.@12_2&12000\",\"306.mat\"),   (\"O.007.FE.@12_3&12000\",\"307.mat\"),    \n",
    "    (\"I.014.FE_0&12000\",\"274.mat\"),       (\"I.014.FE_1&12000\",\"275.mat\"),       (\"I.014.FE_2&12000\",\"276.mat\"),       (\"I.014.FE_3&12000\",\"277.mat\"),    \n",
    "    (\"B.014.FE_0&12000\",\"286.mat\"),       (\"B.014.FE_1&12000\",\"287.mat\"),       (\"B.014.FE_2&12000\",\"288.mat\"),       (\"B.014.FE_3&12000\",\"289.mat\"),    \n",
    "    (\"O.014.FE.@3_0&12000\",\"310.mat\"),    (\"O.014.FE.@3_1&12000\",\"309.mat\"),    (\"O.014.FE.@3_2&12000\",\"311.mat\"),    (\"O.014.FE.@3_3&12000\",\"312.mat\"),    \n",
    "    (\"O.014.FE.@6_0&12000\",\"313.mat\"),    \n",
    "    (\"I.021.FE_0&12000\",\"270.mat\"),       (\"I.021.FE_1&12000\",\"271.mat\"),       (\"I.021.FE_2&12000\",\"272.mat\"),       (\"I.021.FE_3&12000\",\"273.mat\"),    \n",
    "    (\"B.021.FE_0&12000\",\"290.mat\"),       (\"B.021.FE_1&12000\",\"291.mat\"),       (\"B.021.FE_2&12000\",\"292.mat\"),       (\"B.021.FE_3&12000\",\"293.mat\"),    \n",
    "    (\"O.021.FE.@6_0&12000\",\"315.mat\"),    (\"O.021.FE.@3_1&12000\",\"316.mat\"),    (\"O.021.FE.@3_2&12000\",\"317.mat\"),    (\"O.021.FE.@3_3&12000\",\"318.mat\"),    \n",
    "]\n",
    "\n",
    "def list_of_bearings_all():\n",
    "    return list_of_bearings_12k() + list_of_bearings_48k()\n",
    "\n",
    "def list_of_bearings_test():\n",
    "    return [\n",
    "        (\"N.000.NN_0&12000\",\"97.mat\"), (\"I.007.DE_0&48000\",\"109.mat\"), (\"O.021.DE.@6_1&12000\",\"235.mat\")    \n",
    "    ]"
   ]
  },
  {
   "cell_type": "markdown",
   "metadata": {},
   "source": [
    "## Testing split_acquisition"
   ]
  },
  {
   "cell_type": "code",
   "execution_count": 2,
   "metadata": {},
   "outputs": [
    {
     "name": "stdout",
     "output_type": "stream",
     "text": [
      "keys: dict_keys(['__header__', '__version__', '__globals__', 'X097_DE_time', 'X097_FE_time', 'X097RPM'])\n",
      "shape of matlab file data: (243938, 1)\n",
      "reshape of matlab file data: (1, 243938)\n"
     ]
    }
   ],
   "source": [
    "import scipy.io\n",
    "\n",
    "data = scipy.io.loadmat(f'raw_cwru/97.mat')\n",
    "print('keys:', data.keys())\n",
    "print('shape of matlab file data:', data['X097_DE_time'].shape)\n",
    "print('reshape of matlab file data:', data['X097_DE_time'].reshape(1, -1).shape)"
   ]
  },
  {
   "cell_type": "code",
   "execution_count": 6,
   "metadata": {},
   "outputs": [
    {
     "name": "stdout",
     "output_type": "stream",
     "text": [
      "keys: dict_keys(['__header__', '__version__', '__globals__', 'X097_DE_time', 'X097_FE_time', 'X097RPM'])\n",
      "(243938, 1)\n",
      "(243938, 1)\n",
      "Number of acquisitions: 118\n"
     ]
    }
   ],
   "source": [
    "import scipy.io\n",
    "\n",
    "data = scipy.io.loadmat(f'raw_cwru/97.mat')\n",
    "print('keys:', data.keys())\n",
    "print(data['X097_DE_time'].shape)\n",
    "print(data['X097_FE_time'].shape)\n",
    "n_acquisitions = (data['X097_DE_time'].shape[0]//4096)*2\n",
    "print(f'Number of acquisitions: {n_acquisitions}')"
   ]
  },
  {
   "cell_type": "code",
   "execution_count": 5,
   "metadata": {},
   "outputs": [
    {
     "name": "stdout",
     "output_type": "stream",
     "text": [
      "dict_keys(['__header__', '__version__', '__globals__', 'X109_DE_time', 'X109_FE_time', 'X109RPM'])\n",
      "(243938, 1)\n",
      "(1, 243938)\n",
      "sample_size: 4096, ajusted_sample_size: 16384\n",
      "number of acquisition: 14\n"
     ]
    }
   ],
   "source": [
    "import scipy.io\n",
    "data = scipy.io.loadmat('raw_cwru/109.mat')\n",
    "print(data.keys())\n",
    "print(data['X109_DE_time'].shape)\n",
    "acquisition = data['X109_DE_time'].reshape(1,-1)\n",
    "print(acquisition.shape)\n",
    "acquisition_size = acquisition.shape[1]\n",
    "sample_size = 4096\n",
    "ajusted_sample_size = int(sample_size * (48000/12000))\n",
    "print(f\"sample_size: {sample_size}, ajusted_sample_size: {ajusted_sample_size}\")\n",
    "print(f\"number of acquisition: {acquisition_size // ajusted_sample_size}\")\n"
   ]
  },
  {
   "cell_type": "markdown",
   "metadata": {},
   "source": [
    "## Testing load_acquisition"
   ]
  },
  {
   "cell_type": "code",
   "execution_count": 10,
   "metadata": {},
   "outputs": [
    {
     "name": "stdout",
     "output_type": "stream",
     "text": [
      "-----------------\n",
      "('N.000.NN_0&12000', '97.mat')\n",
      "..............\n",
      "sample size computed: 4096\n",
      "key: X097_DE_time - acquisition size: 243938 - number of acquisitions: 59\n",
      "..............\n",
      "sample size computed: 4096\n",
      "key: X097_FE_time - acquisition size: 243938 - number of acquisitions: 59\n",
      "-----------------\n",
      "('I.007.DE_0&48000', '109.mat')\n",
      "..............\n",
      "sample size computed: 4096\n",
      "key: X109_DE_time - acquisition size: 243938 - number of acquisitions: 59\n",
      "..............\n",
      "sample size computed: 4096\n",
      "key: X109_FE_time - acquisition size: 243938 - number of acquisitions: 59\n",
      "-----------------\n",
      "('O.021.DE.@6_1&12000', '235.mat')\n",
      "..............\n",
      "sample size computed: 4096\n",
      "key: X235_DE_time - acquisition size: 121991 - number of acquisitions: 29\n",
      "..............\n",
      "sample size computed: 4096\n",
      "key: X235_FE_time - acquisition size: 121991 - number of acquisitions: 29\n",
      "..............\n",
      "sample size computed: 4096\n",
      "key: X235_BA_time - acquisition size: 121991 - number of acquisitions: 29\n",
      "Total of acquisitions: 323\n"
     ]
    }
   ],
   "source": [
    "import scipy.io\n",
    "import re\n",
    "from utils.resampling import compute_resample_size\n",
    "\n",
    "def list_of_bearings_test():\n",
    "    return [\n",
    "        (\"N.000.NN_0&12000\",\"97.mat\"), (\"I.007.DE_0&48000\",\"109.mat\"), (\"O.021.DE.@6_1&12000\",\"235.mat\")   \n",
    "    ]\n",
    "\n",
    "acquisitions = []\n",
    "for bearing in list_of_bearings_test():\n",
    "    print('-----------------')\n",
    "    print(bearing)\n",
    "    bearing_label = bearing[0]\n",
    "    bearing_file = bearing[1]\n",
    "    sample_size = 4096 \n",
    "    data = scipy.io.loadmat(f'test_raw_cwru/{bearing_file}')\n",
    "    keys = re.findall(r'X\\d{3}_[A-Z]{2}_time', str(data.keys()))\n",
    "    for key in keys:\n",
    "        print('..............')\n",
    "        acquisition_size = data[key].shape[0]\n",
    "        print(f'sample size computed: {sample_size}')\n",
    "        n_acquisition = acquisition_size // sample_size\n",
    "        acquisitions.append(n_acquisition)\n",
    "        print(f'key: {key} - acquisition size: {acquisition_size} - number of acquisitions: {n_acquisition}')\n",
    "        \n",
    "print(f'Total of acquisitions: {sum(acquisitions)}')"
   ]
  },
  {
   "cell_type": "markdown",
   "metadata": {},
   "source": [
    "Reamostrando"
   ]
  },
  {
   "cell_type": "code",
   "execution_count": 8,
   "metadata": {},
   "outputs": [
    {
     "ename": "NameError",
     "evalue": "name 'signal' is not defined",
     "output_type": "error",
     "traceback": [
      "\u001b[0;31m---------------------------------------------------------------------------\u001b[0m",
      "\u001b[0;31mNameError\u001b[0m                                 Traceback (most recent call last)",
      "Cell \u001b[0;32mIn[8], line 7\u001b[0m\n\u001b[1;32m      4\u001b[0m original_sr \u001b[38;5;241m=\u001b[39m \u001b[38;5;241m48000\u001b[39m\n\u001b[1;32m      5\u001b[0m new_sr \u001b[38;5;241m=\u001b[39m \u001b[38;5;241m12000\u001b[39m\n\u001b[0;32m----> 7\u001b[0m resampled_data \u001b[38;5;241m=\u001b[39m librosa\u001b[38;5;241m.\u001b[39mresample(np\u001b[38;5;241m.\u001b[39msqueeze(\u001b[43msignal\u001b[49m), orig_sr\u001b[38;5;241m=\u001b[39moriginal_sr, target_sr\u001b[38;5;241m=\u001b[39mnew_sr)\n\u001b[1;32m      9\u001b[0m \u001b[38;5;28mprint\u001b[39m(\u001b[38;5;124mf\u001b[39m\u001b[38;5;124m\"\u001b[39m\u001b[38;5;124mOriginal shape: \u001b[39m\u001b[38;5;132;01m{\u001b[39;00msignal\u001b[38;5;241m.\u001b[39mshape\u001b[38;5;132;01m}\u001b[39;00m\u001b[38;5;124m\"\u001b[39m)\n\u001b[1;32m     10\u001b[0m \u001b[38;5;28mprint\u001b[39m(\u001b[38;5;124mf\u001b[39m\u001b[38;5;124m\"\u001b[39m\u001b[38;5;124mResampled shape: \u001b[39m\u001b[38;5;132;01m{\u001b[39;00mresampled_data\u001b[38;5;241m.\u001b[39mshape\u001b[38;5;132;01m}\u001b[39;00m\u001b[38;5;124m\"\u001b[39m)\n",
      "\u001b[0;31mNameError\u001b[0m: name 'signal' is not defined"
     ]
    }
   ],
   "source": [
    "import numpy as np\n",
    "import librosa\n",
    "\n",
    "original_sr = 48000\n",
    "new_sr = 12000\n",
    "\n",
    "resampled_data = librosa.resample(np.squeeze(signal), orig_sr=original_sr, target_sr=new_sr)\n",
    "\n",
    "print(f\"Original shape: {signal.shape}\")\n",
    "print(f\"Resampled shape: {resampled_data.shape}\")\n",
    "print(\"calculando...\")\n",
    "qtd_orig = signal.shape[0]\n",
    "qtd_final = (new_sr/original_sr)*qtd_orig\n",
    "print(\"nova quantidade:\", qtd_final)\n",
    "\n",
    "# Visualizar alguns dados\n",
    "print(resampled_data[:10])\n",
    "\n",
    "print('diminuiu:', (signal.shape[0] - resampled_data.shape[0])/signal.shape[0])"
   ]
  },
  {
   "cell_type": "code",
   "execution_count": 41,
   "metadata": {},
   "outputs": [
    {
     "name": "stdout",
     "output_type": "stream",
     "text": [
      "acquisition.shape: (1, 63788)\n",
      "bearing info: I.014.DE_0&48000\n"
     ]
    }
   ],
   "source": [
    "import os\n",
    "\n",
    "bearing_infos =  eval('list_of_bearings_all()')\n",
    "acquisition_maxsize = None\n",
    "sample_size = 4096\n",
    "\n",
    "def load_acquisitions():       \n",
    "        list_of_bearings = eval(f\"list_of_bearings_all()\")\n",
    "        for x, (bearing_info, filename) in enumerate(list_of_bearings):\n",
    "            # print('\\r', f\" loading acquisitions {100*(x+1)/len(list_of_bearings):.2f} %\", end='')\n",
    "            position = bearing_info[6:8]\n",
    "            if position == 'NN':\n",
    "                positions = ['DE', 'FE']\n",
    "                for position in positions:\n",
    "                    extract_acquisition(bearing_info.replace('NN', position), filename)\n",
    "            else:\n",
    "                extract_acquisition(bearing_info, filename)\n",
    "        \n",
    "\n",
    "def extract_acquisition(bearing_info, filename):\n",
    "    full_path = os.path.join(f'raw_cwru/{filename}')\n",
    "    matlab_file = scipy.io.loadmat(full_path)\n",
    "    acquisition = []\n",
    "    file_number = filename.split('.')[0]\n",
    "    position = bearing_info.split('.')[2][:2]\n",
    "    signal_key = [key for key in matlab_file if key.endswith(file_number + \"_\" + position + \"_time\")]\n",
    "    if len(signal_key) == 0:\n",
    "        signal_key = [key for key in matlab_file if key.endswith(\"_\" + position + \"_time\")]            \n",
    "    if len(signal_key) > 0:\n",
    "        if acquisition_maxsize:\n",
    "            acquisition.append(matlab_file[signal_key[0]].reshape(1, -1)[0][:acquisition_maxsize])\n",
    "        else:\n",
    "            acquisition.append(matlab_file[signal_key[0]].reshape(1, -1)[0])\n",
    "    acquisition = np.array(acquisition)\n",
    "    if acquisition.shape[1]<120000:\n",
    "        print('acquisition.shape:', acquisition.shape)\n",
    "        print('bearing info:', bearing_info)\n",
    "    # for i in range(acquisition.shape[1]//sample_size):\n",
    "    #     sample = acquisition[:,(i * sample_size):((i + 1) * sample_size)]\n",
    "    #     signal_data = np.append(signal_data, np.array([sample.T]), axis=0)\n",
    "    #     labels = np.append(labels, bearing_info[0])\n",
    "    #     keys = np.append(keys, bearing_info)\n",
    "\n",
    "load_acquisitions()"
   ]
  },
  {
   "cell_type": "markdown",
   "metadata": {},
   "source": [
    "# Ottawa"
   ]
  },
  {
   "cell_type": "code",
   "execution_count": 4,
   "metadata": {},
   "outputs": [
    {
     "name": "stdout",
     "output_type": "stream",
     "text": [
      "keys: dict_keys(['__header__', '__version__', '__globals__', 'Channel_1', 'Channel_2'])\n",
      "shape channel 1: (1, 2000000)\n"
     ]
    }
   ],
   "source": [
    "import scipy.io\n",
    "\n",
    "matlab_file = scipy.io.loadmat(\"raw_ottawa/H-A-1.mat\")\n",
    "print('keys:', matlab_file.keys())\n",
    "print('shape channel 1:', matlab_file['Channel_1'].reshape(1, -1).shape)"
   ]
  }
 ],
 "metadata": {
  "kernelspec": {
   "display_name": "env",
   "language": "python",
   "name": "python3"
  },
  "language_info": {
   "codemirror_mode": {
    "name": "ipython",
    "version": 3
   },
   "file_extension": ".py",
   "mimetype": "text/x-python",
   "name": "python",
   "nbconvert_exporter": "python",
   "pygments_lexer": "ipython3",
   "version": "3.8.10"
  }
 },
 "nbformat": 4,
 "nbformat_minor": 2
}
