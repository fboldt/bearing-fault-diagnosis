{
 "cells": [
  {
   "cell_type": "markdown",
   "metadata": {},
   "source": [
    "# Mafalda"
   ]
  },
  {
   "cell_type": "markdown",
   "metadata": {},
   "source": [
    "## Imports"
   ]
  },
  {
   "cell_type": "code",
   "execution_count": 1,
   "metadata": {},
   "outputs": [
    {
     "name": "stderr",
     "output_type": "stream",
     "text": [
      "/tmp/ipykernel_38105/2288594491.py:5: DeprecationWarning: \n",
      "Pyarrow will become a required dependency of pandas in the next major release of pandas (pandas 3.0),\n",
      "(to allow more performant data types, such as the Arrow string type, and better interoperability with other libraries)\n",
      "but was not found to be installed on your system.\n",
      "If this would cause problems for you,\n",
      "please provide us feedback at https://github.com/pandas-dev/pandas/issues/54466\n",
      "        \n",
      "  import pandas as pd\n"
     ]
    }
   ],
   "source": [
    "# imports\n",
    "import numpy as np\n",
    "import os\n",
    "import scipy\n",
    "import pandas as pd\n",
    "import matplotlib.pyplot as plt\n",
    "import seaborn as sns"
   ]
  },
  {
   "cell_type": "code",
   "execution_count": 2,
   "metadata": {},
   "outputs": [],
   "source": [
    "\n",
    "cwd = os.getcwd()\n",
    "\n",
    "# getting acquisitions\n",
    "acquisition_maxsize=420_000\n",
    "sample_size=8400\n",
    "n_accelerometers=1\n",
    "labels=[]\n",
    "keys=[]\n",
    "signal_data=np.empty((0, sample_size, n_accelerometers))\n"
   ]
  },
  {
   "cell_type": "code",
   "execution_count": null,
   "metadata": {},
   "outputs": [],
   "source": [
    "list_of_bearings_all = []\n",
    "\n",
    "list_of_bearings_dbg = []"
   ]
  },
  {
   "cell_type": "markdown",
   "metadata": {},
   "source": [
    "## Caminho para os arquivos"
   ]
  },
  {
   "cell_type": "markdown",
   "metadata": {},
   "source": [
    "## Transformada de Fourier"
   ]
  },
  {
   "cell_type": "code",
   "execution_count": 32,
   "metadata": {},
   "outputs": [],
   "source": [
    "def fft(data, sample_rate, sample_size):\n",
    "    T = 1/sample_rate\n",
    "    f = np.fft.fftfreq(sample_size, T)\n",
    "    transf = np.fft.fft(data)\n",
    "    return f, transf"
   ]
  },
  {
   "cell_type": "code",
   "execution_count": 33,
   "metadata": {},
   "outputs": [],
   "source": [
    "def plot_fft(label, key, sample_size=8000, fs=42000):\n",
    "    T=1/fs\n",
    "    matlab_file = scipy.io.loadmat(os.path.join(cwd, files_path[label+'.mat']))\n",
    "    data = matlab_file[key].reshape(1, -1)[0][:sample_size]\n",
    "    f, transf = fft(data, sample_rate=fs, sample_size=sample_size)\n",
    "\n",
    "    plt.figure(figsize=(16,5))\n",
    "    plt.title(label)\n",
    "    plt.plot(f[f>0], transf[f>0] * 1/sample_size)"
   ]
  },
  {
   "cell_type": "markdown",
   "metadata": {},
   "source": [
    "## Informações sobre o dataset"
   ]
  },
  {
   "cell_type": "markdown",
   "metadata": {},
   "source": [
    "### Util"
   ]
  },
  {
   "cell_type": "code",
   "execution_count": 4,
   "metadata": {},
   "outputs": [],
   "source": [
    "import os\n",
    "\n",
    "def list_files_in_directory(directory):\n",
    "    try:        \n",
    "        files = os.listdir(directory)\n",
    "        return files\n",
    "    except Exception as e:\n",
    "        print(\"Error listing files:\", e)\n",
    "        return None"
   ]
  },
  {
   "cell_type": "code",
   "execution_count": 5,
   "metadata": {},
   "outputs": [],
   "source": [
    "import pandas as pd\n",
    "\n",
    "def read_csv_data(file_name):\n",
    "    try:\n",
    "        # Reading the CSV file\n",
    "        data = pd.read_csv(file_name, header=None)\n",
    "        \n",
    "        # Renaming the columns\n",
    "        column_names = ['Tachometer', 'Underhang_Axial', 'Underhang_Radial', 'Underhang_Tangential',\n",
    "                        'Overhang_Axial', 'Overhang_Radial', 'Overhang_Tangential', 'Microphone']\n",
    "        data.columns = column_names\n",
    "        \n",
    "        return data\n",
    "    except Exception as e:\n",
    "        print(\"Error reading the CSV file:\", e)\n",
    "        return None"
   ]
  },
  {
   "cell_type": "code",
   "execution_count": 6,
   "metadata": {},
   "outputs": [],
   "source": [
    "def save_as_numpy_array(data, file_name):\n",
    "    try:\n",
    "        # Convert DataFrame to numpy array\n",
    "        numpy_array = data.to_numpy()\n",
    "        \n",
    "        # Save numpy array to file\n",
    "        np.save(file_name, numpy_array)\n",
    "        print(\"Data saved as numpy array successfully.\")\n",
    "    except Exception as e:\n",
    "        print(\"Error saving data as numpy array:\", e)"
   ]
  },
  {
   "cell_type": "code",
   "execution_count": 7,
   "metadata": {},
   "outputs": [],
   "source": [
    "import pandas as pd\n",
    "from scipy.io import savemat\n",
    "\n",
    "def save_as_matlab(data, file_name):\n",
    "    try:\n",
    "        # Convert DataFrame to dictionary\n",
    "        data_dict = data.to_dict(orient='list')\n",
    "        \n",
    "        # Save data as MATLAB .mat file\n",
    "        savemat(file_name, data_dict)\n",
    "        print(\"Data saved as MATLAB .mat file successfully.\")\n",
    "    except Exception as e:\n",
    "        print(\"Error saving data as MATLAB .mat file:\", e)"
   ]
  },
  {
   "cell_type": "code",
   "execution_count": 8,
   "metadata": {},
   "outputs": [],
   "source": [
    "from scipy.io import loadmat\n",
    "\n",
    "def read_matlab_file(file_name):\n",
    "    try:\n",
    "        # Load MATLAB .mat file\n",
    "        data = loadmat(file_name)\n",
    "        return data\n",
    "    except Exception as e:\n",
    "        print(\"Error reading MATLAB .mat file:\", e)\n",
    "        return None"
   ]
  },
  {
   "cell_type": "code",
   "execution_count": 9,
   "metadata": {},
   "outputs": [],
   "source": [
    "import os\n",
    "\n",
    "def get_file_size(file_name):\n",
    "    try:\n",
    "        # Get the size of the file in bytes\n",
    "        size_bytes = os.path.getsize(file_name)\n",
    "        return size_bytes\n",
    "    except Exception as e:\n",
    "        print(\"Error getting file size:\", e)\n",
    "        return None"
   ]
  },
  {
   "cell_type": "code",
   "execution_count": 10,
   "metadata": {},
   "outputs": [],
   "source": [
    "import os\n",
    "\n",
    "def total_size_of_files(directory):\n",
    "    total_size = 0\n",
    "    try:\n",
    "        # Iterate over all files in the directory\n",
    "        for dirpath, _, filenames in os.walk(directory):\n",
    "            for filename in filenames:\n",
    "                # Get the full path of the file\n",
    "                file_path = os.path.join(dirpath, filename)\n",
    "                # Get the size of the file and add it to the total size\n",
    "                total_size += os.path.getsize(file_path)\n",
    "        return total_size\n",
    "    except Exception as e:\n",
    "        print(\"Error calculating total size of files:\", e)\n",
    "        return None"
   ]
  },
  {
   "cell_type": "code",
   "execution_count": 11,
   "metadata": {},
   "outputs": [],
   "source": [
    "import os\n",
    "\n",
    "def create_directory(directory):\n",
    "    try:\n",
    "        # Check if the directory already exists\n",
    "        if not os.path.exists(directory):\n",
    "            # Create the directory if it doesn't exist\n",
    "            os.makedirs(directory)\n",
    "            print(\"Directory created successfully:\", directory)\n",
    "        else:\n",
    "            print(\"Directory already exists:\", directory)\n",
    "    except Exception as e:\n",
    "        print(\"Error creating the directory:\", e)\n"
   ]
  },
  {
   "cell_type": "markdown",
   "metadata": {},
   "source": [
    "### Normal Sequences\n",
    "\n",
    "There are 49 sequences without any fault, each with a fixed rotation speed within the range from 737 rpm to 3686 rpm with steps of approximately 60 rpm."
   ]
  },
  {
   "cell_type": "markdown",
   "metadata": {},
   "source": [
    "#### Saving the csv files to npy files"
   ]
  },
  {
   "cell_type": "markdown",
   "metadata": {},
   "source": [
    "##### Normal"
   ]
  },
  {
   "cell_type": "code",
   "execution_count": 30,
   "metadata": {},
   "outputs": [
    {
     "name": "stdout",
     "output_type": "stream",
     "text": [
      "Directory already exists: raw_mafalda_npy\n",
      "Error saving data as numpy array: [Errno 2] No such file or directory: 'raw_mafalda_npa/n_0.npy'\n",
      "Error saving data as numpy array: [Errno 2] No such file or directory: 'raw_mafalda_npa/n_1.npy'\n",
      "Error saving data as numpy array: [Errno 2] No such file or directory: 'raw_mafalda_npa/n_2.npy'\n",
      "Error saving data as numpy array: [Errno 2] No such file or directory: 'raw_mafalda_npa/n_3.npy'\n",
      "Error saving data as numpy array: [Errno 2] No such file or directory: 'raw_mafalda_npa/n_4.npy'\n",
      "Error saving data as numpy array: [Errno 2] No such file or directory: 'raw_mafalda_npa/n_5.npy'\n",
      "Error saving data as numpy array: [Errno 2] No such file or directory: 'raw_mafalda_npa/n_6.npy'\n",
      "Error saving data as numpy array: [Errno 2] No such file or directory: 'raw_mafalda_npa/n_7.npy'\n",
      "Error saving data as numpy array: [Errno 2] No such file or directory: 'raw_mafalda_npa/n_8.npy'\n",
      "Error saving data as numpy array: [Errno 2] No such file or directory: 'raw_mafalda_npa/n_9.npy'\n",
      "Error saving data as numpy array: [Errno 2] No such file or directory: 'raw_mafalda_npa/n_10.npy'\n",
      "Error saving data as numpy array: [Errno 2] No such file or directory: 'raw_mafalda_npa/n_11.npy'\n",
      "Error saving data as numpy array: [Errno 2] No such file or directory: 'raw_mafalda_npa/n_12.npy'\n",
      "Error saving data as numpy array: [Errno 2] No such file or directory: 'raw_mafalda_npa/n_13.npy'\n",
      "Error saving data as numpy array: [Errno 2] No such file or directory: 'raw_mafalda_npa/n_14.npy'\n",
      "Error saving data as numpy array: [Errno 2] No such file or directory: 'raw_mafalda_npa/n_15.npy'\n",
      "Error saving data as numpy array: [Errno 2] No such file or directory: 'raw_mafalda_npa/n_16.npy'\n",
      "Error saving data as numpy array: [Errno 2] No such file or directory: 'raw_mafalda_npa/n_17.npy'\n",
      "Error saving data as numpy array: [Errno 2] No such file or directory: 'raw_mafalda_npa/n_18.npy'\n",
      "Error saving data as numpy array: [Errno 2] No such file or directory: 'raw_mafalda_npa/n_19.npy'\n",
      "Error saving data as numpy array: [Errno 2] No such file or directory: 'raw_mafalda_npa/n_20.npy'\n",
      "Error saving data as numpy array: [Errno 2] No such file or directory: 'raw_mafalda_npa/n_21.npy'\n",
      "Error saving data as numpy array: [Errno 2] No such file or directory: 'raw_mafalda_npa/n_22.npy'\n",
      "Error saving data as numpy array: [Errno 2] No such file or directory: 'raw_mafalda_npa/n_23.npy'\n",
      "Error saving data as numpy array: [Errno 2] No such file or directory: 'raw_mafalda_npa/n_24.npy'\n",
      "Error saving data as numpy array: [Errno 2] No such file or directory: 'raw_mafalda_npa/n_25.npy'\n",
      "Error saving data as numpy array: [Errno 2] No such file or directory: 'raw_mafalda_npa/n_26.npy'\n",
      "Error saving data as numpy array: [Errno 2] No such file or directory: 'raw_mafalda_npa/n_27.npy'\n"
     ]
    },
    {
     "ename": "KeyboardInterrupt",
     "evalue": "",
     "output_type": "error",
     "traceback": [
      "\u001b[0;31m---------------------------------------------------------------------------\u001b[0m",
      "\u001b[0;31mKeyboardInterrupt\u001b[0m                         Traceback (most recent call last)",
      "Cell \u001b[0;32mIn[30], line 12\u001b[0m\n\u001b[1;32m     10\u001b[0m \u001b[38;5;66;03m# considering that there was an increase of 60 in speed\u001b[39;00m\n\u001b[1;32m     11\u001b[0m data\u001b[38;5;241m.\u001b[39mTachometer \u001b[38;5;241m=\u001b[39m data\u001b[38;5;241m.\u001b[39mTachometer \u001b[38;5;241m+\u001b[39m rotation_speed\n\u001b[0;32m---> 12\u001b[0m \u001b[43msave_as_numpy_array\u001b[49m\u001b[43m(\u001b[49m\u001b[43mdata\u001b[49m\u001b[43m,\u001b[49m\u001b[43m \u001b[49m\u001b[38;5;124;43mf\u001b[39;49m\u001b[38;5;124;43m\"\u001b[39;49m\u001b[38;5;124;43mraw_mafalda_npa/n_\u001b[39;49m\u001b[38;5;132;43;01m{\u001b[39;49;00m\u001b[43mindex\u001b[49m\u001b[38;5;132;43;01m}\u001b[39;49;00m\u001b[38;5;124;43m\"\u001b[39;49m\u001b[43m)\u001b[49m\n\u001b[1;32m     13\u001b[0m \u001b[38;5;66;03m# save_as_matlab(data, f\"n_{index}\")\u001b[39;00m\n",
      "Cell \u001b[0;32mIn[6], line 4\u001b[0m, in \u001b[0;36msave_as_numpy_array\u001b[0;34m(data, file_name)\u001b[0m\n\u001b[1;32m      1\u001b[0m \u001b[38;5;28;01mdef\u001b[39;00m \u001b[38;5;21msave_as_numpy_array\u001b[39m(data, file_name):\n\u001b[1;32m      2\u001b[0m     \u001b[38;5;28;01mtry\u001b[39;00m:\n\u001b[1;32m      3\u001b[0m         \u001b[38;5;66;03m# Convert DataFrame to numpy array\u001b[39;00m\n\u001b[0;32m----> 4\u001b[0m         numpy_array \u001b[38;5;241m=\u001b[39m \u001b[43mdata\u001b[49m\u001b[38;5;241;43m.\u001b[39;49m\u001b[43mto_numpy\u001b[49m\u001b[43m(\u001b[49m\u001b[43m)\u001b[49m\n\u001b[1;32m      6\u001b[0m         \u001b[38;5;66;03m# Save numpy array to file\u001b[39;00m\n\u001b[1;32m      7\u001b[0m         np\u001b[38;5;241m.\u001b[39msave(file_name, numpy_array)\n",
      "File \u001b[0;32m~/bearing-fault-diagnosis/env/lib/python3.10/site-packages/pandas/core/frame.py:1981\u001b[0m, in \u001b[0;36mDataFrame.to_numpy\u001b[0;34m(self, dtype, copy, na_value)\u001b[0m\n\u001b[1;32m   1979\u001b[0m \u001b[38;5;28;01mif\u001b[39;00m dtype \u001b[38;5;129;01mis\u001b[39;00m \u001b[38;5;129;01mnot\u001b[39;00m \u001b[38;5;28;01mNone\u001b[39;00m:\n\u001b[1;32m   1980\u001b[0m     dtype \u001b[38;5;241m=\u001b[39m np\u001b[38;5;241m.\u001b[39mdtype(dtype)\n\u001b[0;32m-> 1981\u001b[0m result \u001b[38;5;241m=\u001b[39m \u001b[38;5;28;43mself\u001b[39;49m\u001b[38;5;241;43m.\u001b[39;49m\u001b[43m_mgr\u001b[49m\u001b[38;5;241;43m.\u001b[39;49m\u001b[43mas_array\u001b[49m\u001b[43m(\u001b[49m\u001b[43mdtype\u001b[49m\u001b[38;5;241;43m=\u001b[39;49m\u001b[43mdtype\u001b[49m\u001b[43m,\u001b[49m\u001b[43m \u001b[49m\u001b[43mcopy\u001b[49m\u001b[38;5;241;43m=\u001b[39;49m\u001b[43mcopy\u001b[49m\u001b[43m,\u001b[49m\u001b[43m \u001b[49m\u001b[43mna_value\u001b[49m\u001b[38;5;241;43m=\u001b[39;49m\u001b[43mna_value\u001b[49m\u001b[43m)\u001b[49m\n\u001b[1;32m   1982\u001b[0m \u001b[38;5;28;01mif\u001b[39;00m result\u001b[38;5;241m.\u001b[39mdtype \u001b[38;5;129;01mis\u001b[39;00m \u001b[38;5;129;01mnot\u001b[39;00m dtype:\n\u001b[1;32m   1983\u001b[0m     result \u001b[38;5;241m=\u001b[39m np\u001b[38;5;241m.\u001b[39marray(result, dtype\u001b[38;5;241m=\u001b[39mdtype, copy\u001b[38;5;241m=\u001b[39m\u001b[38;5;28;01mFalse\u001b[39;00m)\n",
      "File \u001b[0;32m~/bearing-fault-diagnosis/env/lib/python3.10/site-packages/pandas/core/internals/managers.py:1693\u001b[0m, in \u001b[0;36mBlockManager.as_array\u001b[0;34m(self, dtype, copy, na_value)\u001b[0m\n\u001b[1;32m   1691\u001b[0m         arr\u001b[38;5;241m.\u001b[39mflags\u001b[38;5;241m.\u001b[39mwriteable \u001b[38;5;241m=\u001b[39m \u001b[38;5;28;01mFalse\u001b[39;00m\n\u001b[1;32m   1692\u001b[0m \u001b[38;5;28;01melse\u001b[39;00m:\n\u001b[0;32m-> 1693\u001b[0m     arr \u001b[38;5;241m=\u001b[39m \u001b[38;5;28;43mself\u001b[39;49m\u001b[38;5;241;43m.\u001b[39;49m\u001b[43m_interleave\u001b[49m\u001b[43m(\u001b[49m\u001b[43mdtype\u001b[49m\u001b[38;5;241;43m=\u001b[39;49m\u001b[43mdtype\u001b[49m\u001b[43m,\u001b[49m\u001b[43m \u001b[49m\u001b[43mna_value\u001b[49m\u001b[38;5;241;43m=\u001b[39;49m\u001b[43mna_value\u001b[49m\u001b[43m)\u001b[49m\n\u001b[1;32m   1694\u001b[0m     \u001b[38;5;66;03m# The underlying data was copied within _interleave, so no need\u001b[39;00m\n\u001b[1;32m   1695\u001b[0m     \u001b[38;5;66;03m# to further copy if copy=True or setting na_value\u001b[39;00m\n\u001b[1;32m   1697\u001b[0m \u001b[38;5;28;01mif\u001b[39;00m na_value \u001b[38;5;129;01mis\u001b[39;00m lib\u001b[38;5;241m.\u001b[39mno_default:\n",
      "File \u001b[0;32m~/bearing-fault-diagnosis/env/lib/python3.10/site-packages/pandas/core/internals/managers.py:1734\u001b[0m, in \u001b[0;36mBlockManager._interleave\u001b[0;34m(self, dtype, na_value)\u001b[0m\n\u001b[1;32m   1732\u001b[0m \u001b[38;5;28;01mfor\u001b[39;00m blk \u001b[38;5;129;01min\u001b[39;00m \u001b[38;5;28mself\u001b[39m\u001b[38;5;241m.\u001b[39mblocks:\n\u001b[1;32m   1733\u001b[0m     rl \u001b[38;5;241m=\u001b[39m blk\u001b[38;5;241m.\u001b[39mmgr_locs\n\u001b[0;32m-> 1734\u001b[0m     arr \u001b[38;5;241m=\u001b[39m \u001b[43mblk\u001b[49m\u001b[38;5;241;43m.\u001b[39;49m\u001b[43mget_values\u001b[49m\u001b[43m(\u001b[49m\u001b[43mdtype\u001b[49m\u001b[43m)\u001b[49m\n\u001b[1;32m   1735\u001b[0m     result[rl\u001b[38;5;241m.\u001b[39mindexer] \u001b[38;5;241m=\u001b[39m arr\n\u001b[1;32m   1736\u001b[0m     itemmask[rl\u001b[38;5;241m.\u001b[39mindexer] \u001b[38;5;241m=\u001b[39m \u001b[38;5;241m1\u001b[39m\n",
      "File \u001b[0;32m~/bearing-fault-diagnosis/env/lib/python3.10/site-packages/pandas/core/internals/blocks.py:2581\u001b[0m, in \u001b[0;36mNumpyBlock.get_values\u001b[0;34m(self, dtype)\u001b[0m\n\u001b[1;32m   2579\u001b[0m \u001b[38;5;28;01mdef\u001b[39;00m \u001b[38;5;21mget_values\u001b[39m(\u001b[38;5;28mself\u001b[39m, dtype: DtypeObj \u001b[38;5;241m|\u001b[39m \u001b[38;5;28;01mNone\u001b[39;00m \u001b[38;5;241m=\u001b[39m \u001b[38;5;28;01mNone\u001b[39;00m) \u001b[38;5;241m-\u001b[39m\u001b[38;5;241m>\u001b[39m np\u001b[38;5;241m.\u001b[39mndarray:\n\u001b[1;32m   2580\u001b[0m     \u001b[38;5;28;01mif\u001b[39;00m dtype \u001b[38;5;241m==\u001b[39m _dtype_obj:\n\u001b[0;32m-> 2581\u001b[0m         \u001b[38;5;28;01mreturn\u001b[39;00m \u001b[38;5;28;43mself\u001b[39;49m\u001b[38;5;241;43m.\u001b[39;49m\u001b[43mvalues\u001b[49m\u001b[38;5;241;43m.\u001b[39;49m\u001b[43mastype\u001b[49m\u001b[43m(\u001b[49m\u001b[43m_dtype_obj\u001b[49m\u001b[43m)\u001b[49m\n\u001b[1;32m   2582\u001b[0m     \u001b[38;5;28;01mreturn\u001b[39;00m \u001b[38;5;28mself\u001b[39m\u001b[38;5;241m.\u001b[39mvalues\n",
      "\u001b[0;31mKeyboardInterrupt\u001b[0m: "
     ]
    }
   ],
   "source": [
    "directory = \"raw_mafalda/normal\"\n",
    "files = list_files_in_directory(directory)\n",
    "\n",
    "rotation_speed = 60 #rpm\n",
    "create_directory(\"raw_mafalda_npy\")\n",
    "for index, file in enumerate(files):\n",
    "    rotation_speed = rotation_speed * (index + 1)\n",
    "    path = os.path.join(directory, file)\n",
    "    data = read_csv_data(path)[:acquisition_maxsize]\n",
    "    # considering that there was an increase of 60 in speed\n",
    "    data.Tachometer = data.Tachometer + rotation_speed\n",
    "    save_as_numpy_array(data, f\"raw_mafalda_npy/n_{index}\")\n",
    "    # save_as_matlab(data, f\"n_{index}\")"
   ]
  },
  {
   "cell_type": "markdown",
   "metadata": {},
   "source": [
    "##### Ball Fault"
   ]
  },
  {
   "cell_type": "code",
   "execution_count": 28,
   "metadata": {},
   "outputs": [
    {
     "name": "stdout",
     "output_type": "stream",
     "text": [
      "Directory already exists: raw_mafalda_npy\n",
      "Data saved as numpy array successfully.\n",
      "Data saved as numpy array successfully.\n",
      "Data saved as numpy array successfully.\n",
      "Data saved as numpy array successfully.\n",
      "Data saved as numpy array successfully.\n",
      "Data saved as numpy array successfully.\n",
      "Data saved as numpy array successfully.\n",
      "Data saved as numpy array successfully.\n",
      "Data saved as numpy array successfully.\n",
      "Data saved as numpy array successfully.\n",
      "Data saved as numpy array successfully.\n",
      "Data saved as numpy array successfully.\n",
      "Data saved as numpy array successfully.\n",
      "Data saved as numpy array successfully.\n",
      "Data saved as numpy array successfully.\n",
      "Data saved as numpy array successfully.\n",
      "Data saved as numpy array successfully.\n",
      "Data saved as numpy array successfully.\n",
      "Data saved as numpy array successfully.\n",
      "Data saved as numpy array successfully.\n",
      "Data saved as numpy array successfully.\n",
      "Data saved as numpy array successfully.\n",
      "Data saved as numpy array successfully.\n",
      "Data saved as numpy array successfully.\n",
      "Data saved as numpy array successfully.\n",
      "Data saved as numpy array successfully.\n",
      "Data saved as numpy array successfully.\n",
      "Data saved as numpy array successfully.\n",
      "Data saved as numpy array successfully.\n",
      "Data saved as numpy array successfully.\n",
      "Data saved as numpy array successfully.\n",
      "Data saved as numpy array successfully.\n",
      "Data saved as numpy array successfully.\n",
      "Data saved as numpy array successfully.\n",
      "Data saved as numpy array successfully.\n",
      "Data saved as numpy array successfully.\n",
      "Data saved as numpy array successfully.\n",
      "Data saved as numpy array successfully.\n",
      "Data saved as numpy array successfully.\n",
      "Data saved as numpy array successfully.\n",
      "Data saved as numpy array successfully.\n",
      "Data saved as numpy array successfully.\n",
      "Data saved as numpy array successfully.\n",
      "Data saved as numpy array successfully.\n",
      "Data saved as numpy array successfully.\n",
      "Data saved as numpy array successfully.\n",
      "Data saved as numpy array successfully.\n",
      "Data saved as numpy array successfully.\n",
      "Data saved as numpy array successfully.\n",
      "Data saved as numpy array successfully.\n",
      "Data saved as numpy array successfully.\n",
      "Data saved as numpy array successfully.\n",
      "Data saved as numpy array successfully.\n",
      "Data saved as numpy array successfully.\n",
      "Data saved as numpy array successfully.\n",
      "Data saved as numpy array successfully.\n",
      "Data saved as numpy array successfully.\n",
      "Data saved as numpy array successfully.\n",
      "Data saved as numpy array successfully.\n",
      "Data saved as numpy array successfully.\n",
      "Data saved as numpy array successfully.\n",
      "Data saved as numpy array successfully.\n",
      "Data saved as numpy array successfully.\n",
      "Data saved as numpy array successfully.\n",
      "Data saved as numpy array successfully.\n",
      "Data saved as numpy array successfully.\n",
      "Data saved as numpy array successfully.\n",
      "Data saved as numpy array successfully.\n",
      "Data saved as numpy array successfully.\n",
      "Data saved as numpy array successfully.\n",
      "Data saved as numpy array successfully.\n",
      "Data saved as numpy array successfully.\n",
      "Data saved as numpy array successfully.\n",
      "Data saved as numpy array successfully.\n",
      "Data saved as numpy array successfully.\n",
      "Data saved as numpy array successfully.\n",
      "Data saved as numpy array successfully.\n",
      "Data saved as numpy array successfully.\n",
      "Data saved as numpy array successfully.\n",
      "Data saved as numpy array successfully.\n",
      "Data saved as numpy array successfully.\n",
      "Data saved as numpy array successfully.\n",
      "Data saved as numpy array successfully.\n",
      "Data saved as numpy array successfully.\n",
      "Data saved as numpy array successfully.\n",
      "Error reading the CSV file: Error tokenizing data. C error: Calling read(nbytes) on source failed. Try engine='python'.\n"
     ]
    },
    {
     "ename": "TypeError",
     "evalue": "'NoneType' object is not subscriptable",
     "output_type": "error",
     "traceback": [
      "\u001b[0;31m---------------------------------------------------------------------------\u001b[0m",
      "\u001b[0;31mTypeError\u001b[0m                                 Traceback (most recent call last)",
      "Cell \u001b[0;32mIn[28], line 21\u001b[0m\n\u001b[1;32m     19\u001b[0m \u001b[38;5;28;01mfor\u001b[39;00m index, file \u001b[38;5;129;01min\u001b[39;00m \u001b[38;5;28menumerate\u001b[39m(files):\n\u001b[1;32m     20\u001b[0m     path \u001b[38;5;241m=\u001b[39m os\u001b[38;5;241m.\u001b[39mpath\u001b[38;5;241m.\u001b[39mjoin(directory, file)\n\u001b[0;32m---> 21\u001b[0m     data \u001b[38;5;241m=\u001b[39m \u001b[43mread_csv_data\u001b[49m\u001b[43m(\u001b[49m\u001b[43mpath\u001b[49m\u001b[43m)\u001b[49m\u001b[43m[\u001b[49m\u001b[43m:\u001b[49m\u001b[43macquisition_maxsize\u001b[49m\u001b[43m]\u001b[49m\n\u001b[1;32m     22\u001b[0m     save_as_numpy_array(data, \u001b[38;5;124mf\u001b[39m\u001b[38;5;124m\"\u001b[39m\u001b[38;5;124mraw_mafalda_npy/b_\u001b[39m\u001b[38;5;132;01m{\u001b[39;00mposition[\u001b[38;5;241m0\u001b[39m]\u001b[38;5;132;01m}\u001b[39;00m\u001b[38;5;124m_\u001b[39m\u001b[38;5;132;01m{\u001b[39;00mload\u001b[38;5;132;01m}\u001b[39;00m\u001b[38;5;124m_\u001b[39m\u001b[38;5;132;01m{\u001b[39;00mindex\u001b[38;5;132;01m}\u001b[39;00m\u001b[38;5;124m\"\u001b[39m)\n",
      "\u001b[0;31mTypeError\u001b[0m: 'NoneType' object is not subscriptable"
     ]
    }
   ],
   "source": [
    "import re\n",
    "\n",
    "directories = [\n",
    "    \"raw_mafalda/overhang/ball_fault/0g\",\n",
    "    \"raw_mafalda/overhang/ball_fault/6g\",\n",
    "    \"raw_mafalda/overhang/ball_fault/20g\",\n",
    "    \"raw_mafalda/overhang/ball_fault/35g\",\n",
    "    \"raw_mafalda/underhang/ball_fault/0g\",\n",
    "    \"raw_mafalda/underhang/ball_fault/6g\",\n",
    "    \"raw_mafalda/underhang/ball_fault/20g\",\n",
    "    \"raw_mafalda/underhang/ball_fault/35g\",\n",
    "]\n",
    "\n",
    "create_directory(\"raw_mafalda_npy\")\n",
    "for directory in directories:\n",
    "    files = list_files_in_directory(directory)\n",
    "    load = re.findall(r\"(\\d+)g\", directory)[0]\n",
    "    position = re.findall(r\"overhang|underhang\", directory)[0]\n",
    "    for index, file in enumerate(files):\n",
    "        path = os.path.join(directory, file)\n",
    "        data = read_csv_data(path)[:acquisition_maxsize]\n",
    "        save_as_numpy_array(data, f\"raw_mafalda_npy/b_{position[0]}_{load}_{index}\")"
   ]
  },
  {
   "cell_type": "markdown",
   "metadata": {},
   "source": [
    "#### Checking storage reduction of npy files "
   ]
  },
  {
   "cell_type": "code",
   "execution_count": 96,
   "metadata": {},
   "outputs": [
    {
     "name": "stdout",
     "output_type": "stream",
     "text": [
      "Size of CSV file: 31783.83728122711 MB\n",
      "Size of Array Numpy file: 805.0260372161865 MB\n"
     ]
    }
   ],
   "source": [
    "# considering the reduction in the amount of sample data to 420_000 in the npy file\n",
    "\n",
    "total_size_csv = total_size_of_files(\"raw_mafalda\")/(1024*1024)\n",
    "total_size_npy = total_size_of_files(\"raw_mafalda_npy\")/(1024*1024)\n",
    "\n",
    "print(\"Size of CSV file:\", total_size_csv, \"MB\")\n",
    "print(\"Size of Array Numpy file:\", total_size_npy, \"MB\")"
   ]
  },
  {
   "cell_type": "markdown",
   "metadata": {},
   "source": [
    "## Construindo gráficos"
   ]
  },
  {
   "cell_type": "code",
   "execution_count": null,
   "metadata": {},
   "outputs": [],
   "source": [
    "print(data.shape)\n",
    "plt.plot(data)\n",
    "plot_fft(label='B500', key='data', sample_size=5000)\n",
    "plot_fft(label='B500', key='ru', sample_size=5000)\n"
   ]
  },
  {
   "cell_type": "markdown",
   "metadata": {},
   "source": [
    "## Espectograma"
   ]
  },
  {
   "cell_type": "code",
   "execution_count": null,
   "metadata": {},
   "outputs": [],
   "source": [
    "import numpy as np\n",
    "import matplotlib.pyplot as plt\n",
    "from scipy import signal\n",
    "from IPython.display import display, clear_output\n",
    "import time\n",
    "\n",
    "nperseg = 505 # segments for the image\n",
    "noverlap = 460 # over lap per image used\n",
    "segment_size = 512 # setting size of image\n",
    "\n",
    "def spectogram_plot(data, fs):\n",
    "    for i in range(0, segment_size*100, segment_size):\n",
    "        print(f'segment = data[{i}:{segment_size}]')\n",
    "        segment = data[i:i+segment_size]\n",
    "        f, t, Sxx = signal.stft(segment, nperseg=1024)\n",
    "        \n",
    "        plt.clf()\n",
    "\n",
    "        fig = plt.figure(figsize=(8, 6))\n",
    "        plt.imshow(np.fliplr(abs(Sxx).T).T, cmap='viridis', aspect='auto', extent=[t.min(), t.max(), f.min(), f.max()])\n",
    "        # can comment out plt.axis('off') to see the x and y axis\n",
    "        plt.ylabel('Frequency [kHz]')\n",
    "        plt.xlabel('Number of Samples')\n",
    "        plt.axis('off')\n",
    "\n",
    "        display(plt.gcf())        \n",
    "        clear_output(wait=True)        \n",
    "        time.sleep(0.5)"
   ]
  },
  {
   "cell_type": "code",
   "execution_count": null,
   "metadata": {},
   "outputs": [],
   "source": [
    "\n",
    "for key in ['B500']:\n",
    "    matlab_file = scipy.io.loadmat(os.path.join(cwd, files_path[key+'.mat']))\n",
    "    print(matlab_file['data'].shape)\n",
    "    data = matlab_file['data'].reshape(1,-1)[0][0:acquisition_maxsize]\n",
    "    spectogram_plot(data, fs=51_200)"
   ]
  },
  {
   "cell_type": "code",
   "execution_count": null,
   "metadata": {},
   "outputs": [],
   "source": [
    "import subprocess\n",
    "import csv\n",
    "from datetime import datetime\n",
    "\n",
    "def redirecionar_saida_para_csv(nome_do_arquivo):\n",
    "    def decorator(funcao):\n",
    "        @wraps(funcao)\n",
    "        def wrapper(*args, **kwargs):\n",
    "            try:\n",
    "                # Execute a função e capture a saída\n",
    "                resultado = funcao(*args, **kwargs)\n",
    "\n",
    "                # Abra o arquivo CSV para escrita (modo \"a\" para adicionar ao arquivo)\n",
    "                with open(nome_do_arquivo, \"a\", newline=\"\") as arquivo_csv:\n",
    "                    writer = csv.writer(arquivo_csv)\n",
    "\n",
    "                    # Escreva a saída no arquivo CSV com data e hora\n",
    "                    data_hora_atual = datetime.now().strftime(\"%Y-%m-%d %H:%M:%S\")\n",
    "                    writer.writerow([f\"Execução em {data_hora_atual}\"])\n",
    "                    writer.writerow([resultado])\n",
    "                    writer.writerow([\"-\" * 40])  # Linha divisória\n",
    "\n",
    "                print(f\"Saída salva em {nome_do_arquivo}\")\n",
    "            except subprocess.CalledProcessError:\n",
    "                print(\"Erro ao executar o programa.\")\n",
    "\n",
    "        return wrapper\n",
    "\n",
    "    return decorator\n",
    "\n",
    "# Exemplo de uso:\n",
    "@redirecionar_saida_para_csv(\"saida.csv\")\n",
    "def meu_programa():\n",
    "    # Suponha que você tenha algum resultado a ser exibido\n",
    "    resultado = \"Isso é um exemplo de saída.\"\n",
    "    return resultado\n",
    "\n",
    "@redirecionar_saida_para_csv(\"saida.csv\")\n",
    "def minha_funcao():\n",
    "    # Suponha que você tenha algum resultado a ser exibido\n",
    "    resultado = \"Meu exemplo.\"\n",
    "    return resultado\n",
    "\n",
    "\n",
    "if __name__ == \"__main__\":\n",
    "\n",
    "    meu_programa()\n",
    "    # minha_funcao()\n"
   ]
  },
  {
   "cell_type": "code",
   "execution_count": null,
   "metadata": {},
   "outputs": [],
   "source": [
    "import sys\n",
    "import csv\n",
    "from datetime import datetime\n",
    "\n",
    "def log_experiment(func):\n",
    "    def wrapper(*args, **kwargs):\n",
    "        timestamp = datetime.now().strftime(\"%Y-%m-%d_%H-%M-%S\")\n",
    "        filename = f\"log_{timestamp}.csv\"\n",
    "        \n",
    "        with open(filename, 'w', newline='') as csvfile:\n",
    "            writer = csv.writer(csvfile)            \n",
    "           \n",
    "            original_stdout = sys.stdout\n",
    "            sys.stdout = csvfile\n",
    "            \n",
    "            result = func(*args, **kwargs)\n",
    "            \n",
    "            sys.stdout = original_stdout\n",
    "            \n",
    "            # Retorna o resultado da função original\n",
    "            return result\n",
    "    \n",
    "    return wrapper\n",
    "\n",
    "# Exemplo de uso do decorator\n",
    "@log_experiment\n",
    "def example_function():\n",
    "    print(\"Esta é uma mensagem de exemplo.\")\n",
    "    print(\"Outra mensagem de exemplo.\")\n",
    "    # Pode haver mais prints ou operações aqui.\n",
    "\n",
    "# Chamando a função decorada\n",
    "example_function()\n"
   ]
  },
  {
   "cell_type": "code",
   "execution_count": null,
   "metadata": {},
   "outputs": [],
   "source": [
    "print('Olá')"
   ]
  }
 ],
 "metadata": {
  "kernelspec": {
   "display_name": "env",
   "language": "python",
   "name": "python3"
  },
  "language_info": {
   "codemirror_mode": {
    "name": "ipython",
    "version": 3
   },
   "file_extension": ".py",
   "mimetype": "text/x-python",
   "name": "python",
   "nbconvert_exporter": "python",
   "pygments_lexer": "ipython3",
   "version": "3.10.12"
  }
 },
 "nbformat": 4,
 "nbformat_minor": 2
}
