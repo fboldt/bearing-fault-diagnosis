{
 "cells": [
  {
   "cell_type": "markdown",
   "metadata": {},
   "source": [
    "# Mafalda"
   ]
  },
  {
   "cell_type": "markdown",
   "metadata": {},
   "source": [
    "## Database Description\n",
    "\n",
    "| **Bearing Discription**     ||\n",
    "|------------------|-----------|\n",
    "| Number of balls  | 8         |\n",
    "| Balls diameter   | 0.7145\tcm | \n",
    "| Cage diameter    | 2.8519\tcm |\n",
    "\n",
    "**Accelerometer**: IMI Sensors triaxial accelerometer, Model 604B31, returning data over the radial, axial and tangencial directions.\n",
    "\n",
    "**Sampling rate**: 50 kHz\n",
    "\n",
    "**During**: 5s\n",
    "\n",
    "**Total of samples**: 250,000\n",
    "\n"
   ]
  },
  {
   "cell_type": "markdown",
   "metadata": {},
   "source": [
    "## Imports"
   ]
  },
  {
   "cell_type": "code",
   "execution_count": 1,
   "metadata": {},
   "outputs": [
    {
     "name": "stderr",
     "output_type": "stream",
     "text": [
      "/tmp/ipykernel_10573/2288594491.py:5: DeprecationWarning: \n",
      "Pyarrow will become a required dependency of pandas in the next major release of pandas (pandas 3.0),\n",
      "(to allow more performant data types, such as the Arrow string type, and better interoperability with other libraries)\n",
      "but was not found to be installed on your system.\n",
      "If this would cause problems for you,\n",
      "please provide us feedback at https://github.com/pandas-dev/pandas/issues/54466\n",
      "        \n",
      "  import pandas as pd\n"
     ]
    }
   ],
   "source": [
    "# imports\n",
    "import numpy as np\n",
    "import os\n",
    "import scipy\n",
    "import pandas as pd\n",
    "import matplotlib.pyplot as plt\n",
    "import seaborn as sns"
   ]
  },
  {
   "cell_type": "code",
   "execution_count": 103,
   "metadata": {},
   "outputs": [],
   "source": [
    "cwd = os.getcwd()\n",
    "\n",
    "acquisition_maxsize=420_000\n",
    "sample_size=8400"
   ]
  },
  {
   "cell_type": "markdown",
   "metadata": {},
   "source": [
    "### Utils"
   ]
  },
  {
   "cell_type": "code",
   "execution_count": 5,
   "metadata": {},
   "outputs": [],
   "source": [
    "import os\n",
    "\n",
    "def list_files_in_directory(directory):\n",
    "    try:        \n",
    "        files = os.listdir(directory)\n",
    "        return files\n",
    "    except Exception as e:\n",
    "        print(\"Error listing files:\", e)\n",
    "        return None"
   ]
  },
  {
   "cell_type": "code",
   "execution_count": 6,
   "metadata": {},
   "outputs": [],
   "source": [
    "import pandas as pd\n",
    "\n",
    "def read_csv_data(file_name):\n",
    "    try:\n",
    "        # Reading the CSV file\n",
    "        data = pd.read_csv(file_name, header=None)\n",
    "        \n",
    "        # Renaming the columns\n",
    "        column_names = ['Tachometer', 'Underhang_Axial', 'Underhang_Radial', 'Underhang_Tangential',\n",
    "                        'Overhang_Axial', 'Overhang_Radial', 'Overhang_Tangential', 'Microphone']\n",
    "        data.columns = column_names\n",
    "        \n",
    "        return data\n",
    "    except Exception as e:\n",
    "        print(\"Error reading the CSV file:\", e)\n",
    "        return None"
   ]
  },
  {
   "cell_type": "code",
   "execution_count": 7,
   "metadata": {},
   "outputs": [],
   "source": [
    "def save_as_numpy_array(data, file_name):\n",
    "    try:\n",
    "        # Convert DataFrame to numpy array\n",
    "        numpy_array = data.to_numpy()\n",
    "        \n",
    "        # Save numpy array to file\n",
    "        np.save(file_name, numpy_array)\n",
    "        print(\"Data saved as numpy array successfully.\")\n",
    "    except Exception as e:\n",
    "        print(\"Error saving data as numpy array:\", e)"
   ]
  },
  {
   "cell_type": "code",
   "execution_count": 8,
   "metadata": {},
   "outputs": [],
   "source": [
    "import pandas as pd\n",
    "from scipy.io import savemat\n",
    "\n",
    "def save_as_matlab(data, file_name):\n",
    "    try:\n",
    "        # Convert DataFrame to dictionary\n",
    "        data_dict = data.to_dict(orient='list')\n",
    "        \n",
    "        # Save data as MATLAB .mat file\n",
    "        savemat(file_name, data_dict)\n",
    "        print(\"Data saved as MATLAB .mat file successfully.\")\n",
    "    except Exception as e:\n",
    "        print(\"Error saving data as MATLAB .mat file:\", e)"
   ]
  },
  {
   "cell_type": "code",
   "execution_count": 9,
   "metadata": {},
   "outputs": [],
   "source": [
    "from scipy.io import loadmat\n",
    "\n",
    "def read_matlab_file(file_name):\n",
    "    try:\n",
    "        # Load MATLAB .mat file\n",
    "        data = loadmat(file_name)\n",
    "        return data\n",
    "    except Exception as e:\n",
    "        print(\"Error reading MATLAB .mat file:\", e)\n",
    "        return None"
   ]
  },
  {
   "cell_type": "code",
   "execution_count": 10,
   "metadata": {},
   "outputs": [],
   "source": [
    "import os\n",
    "\n",
    "def get_file_size(file_name):\n",
    "    try:\n",
    "        # Get the size of the file in bytes\n",
    "        size_bytes = os.path.getsize(file_name)\n",
    "        return size_bytes\n",
    "    except Exception as e:\n",
    "        print(\"Error getting file size:\", e)\n",
    "        return None"
   ]
  },
  {
   "cell_type": "code",
   "execution_count": 11,
   "metadata": {},
   "outputs": [],
   "source": [
    "import os\n",
    "\n",
    "def total_size_of_files(directory):\n",
    "    total_size = 0\n",
    "    try:\n",
    "        # Iterate over all files in the directory\n",
    "        for dirpath, _, filenames in os.walk(directory):\n",
    "            for filename in filenames:\n",
    "                # Get the full path of the file\n",
    "                file_path = os.path.join(dirpath, filename)\n",
    "                # Get the size of the file and add it to the total size\n",
    "                total_size += os.path.getsize(file_path)\n",
    "        return total_size\n",
    "    except Exception as e:\n",
    "        print(\"Error calculating total size of files:\", e)\n",
    "        return None"
   ]
  },
  {
   "cell_type": "code",
   "execution_count": 12,
   "metadata": {},
   "outputs": [],
   "source": [
    "import os\n",
    "\n",
    "def create_directory(directory):\n",
    "    try:\n",
    "        # Check if the directory already exists\n",
    "        if not os.path.exists(directory):\n",
    "            # Create the directory if it doesn't exist\n",
    "            os.makedirs(directory)\n",
    "            print(\"Directory created successfully:\", directory)\n",
    "        else:\n",
    "            print(\"Directory already exists:\", directory)\n",
    "    except Exception as e:\n",
    "        print(\"Error creating the directory:\", e)\n"
   ]
  },
  {
   "cell_type": "markdown",
   "metadata": {},
   "source": [
    "#### Saving the csv files to matlab files"
   ]
  },
  {
   "cell_type": "markdown",
   "metadata": {},
   "source": [
    "**Instructions to use this dataset**\n",
    "\n",
    "\n",
    "\n",
    "1. Download the Mafaulda Database:\n",
    "\n",
    "    Click on the following links to download the Mafaulda database files:\n",
    "        * [normal](https://www02.smt.ufrj.br/~offshore/mfs/database/mafaulda/normal.tgz)\n",
    "        * [imbalance](https://www02.smt.ufrj.br/~offshore/mfs/database/mafaulda/imbalance.tgz)\n",
    "        * [underhang](https://www02.smt.ufrj.br/~offshore/mfs/database/mafaulda/underhang.tgz)\n",
    "        * [overhang](https://www02.smt.ufrj.br/~offshore/mfs/database/mafaulda/overhang.tgz)\n",
    "        \n",
    "2. Extract Files:\n",
    "\n",
    "    Create a directory named **raw_mafaulda**.\n",
    "    Extract the downloaded files into this directory.\n",
    "\n",
    "3. Execute the following code"
   ]
  },
  {
   "cell_type": "code",
   "execution_count": 106,
   "metadata": {},
   "outputs": [
    {
     "name": "stdout",
     "output_type": "stream",
     "text": [
      "Directory already exists: raw_mafaulda_matlab\n"
     ]
    }
   ],
   "source": [
    "import re\n",
    "\n",
    "directories = [\n",
    "    'raw_mafaulda/normal',\n",
    "    'raw_mafaulda/imbalance/6g',\n",
    "    'raw_mafaulda/imbalance/10g',\n",
    "    'raw_mafaulda/imbalance/15g',\n",
    "    'raw_mafaulda/imbalance/20g',\n",
    "    'raw_mafaulda/imbalance/25g',\n",
    "    'raw_mafaulda/imbalance/30g',\n",
    "    'raw_mafaulda/imbalance/35g',\n",
    "    'raw_mafaulda/overhang/ball_fault/0g',\n",
    "    'raw_mafaulda/overhang/ball_fault/6g',\n",
    "    'raw_mafaulda/overhang/ball_fault/20g',\n",
    "    'raw_mafaulda/overhang/ball_fault/35g',\n",
    "    'raw_mafaulda/overhang/cage_fault/0g',\n",
    "    'raw_mafaulda/overhang/cage_fault/6g',\n",
    "    'raw_mafaulda/overhang/cage_fault/20g',\n",
    "    'raw_mafaulda/overhang/cage_fault/35g',\n",
    "    'raw_mafaulda/overhang/outer_race/0g',\n",
    "    'raw_mafaulda/overhang/outer_race/6g',\n",
    "    'raw_mafaulda/overhang/outer_race/20g',\n",
    "    'raw_mafaulda/overhang/outer_race/35g',\n",
    "    'raw_mafaulda/underhang/ball_fault/0g',\n",
    "    'raw_mafaulda/underhang/ball_fault/6g',\n",
    "    'raw_mafaulda/underhang/ball_fault/20g',\n",
    "    'raw_mafaulda/underhang/ball_fault/35g',\n",
    "    'raw_mafaulda/underhang/cage_fault/0g',\n",
    "    'raw_mafaulda/underhang/cage_fault/6g',\n",
    "    'raw_mafaulda/underhang/cage_fault/20g',\n",
    "    'raw_mafaulda/underhang/cage_fault/35g',\n",
    "    'raw_mafaulda/underhang/outer_race/0g',\n",
    "    'raw_mafaulda/underhang/outer_race/6g',\n",
    "    'raw_mafaulda/underhang/outer_race/20g',\n",
    "    'raw_mafaulda/underhang/outer_race/35g',\n",
    "]\n",
    "\n",
    "\n",
    "rawfilesdir = \"raw_mafaulda_matlab\"\n",
    "if not os.path.exists(rawfilesdir):\n",
    "    os.makedirs(rawfilesdir)\n",
    "else:\n",
    "    print(\"Directory already exists:\", rawfilesdir)\n",
    "\n",
    "\n",
    "for directory in directories:\n",
    "    \n",
    "    list_files = list_files_in_directory(directory)\n",
    "\n",
    "    match = re.search(r'\\w+/(\\w+)/?([\\d]*^g|[a-z_]*)?/?(\\d*)?g?', directory)\n",
    "    groups = list(match.groups())\n",
    "    if groups[0] == 'overhang' or groups[0] == 'underhang':        \n",
    "        groups[0], groups[1] = groups[1], groups[0]\n",
    "    for index, file in enumerate(list_files):\n",
    "        path = os.path.join(directory, file)\n",
    "        output_file = os.path.join(\n",
    "            rawfilesdir, \n",
    "            f\"{'N' if groups[0] == 'imbalance' else groups[0][0].upper()}_{'0' if groups[1] == '' else groups[1][0].upper()}_{'0' if groups[2] == '' else groups[2]}_{index}.mat\" )\n",
    "\n",
    "        data = read_csv_data(path)[:acquisition_maxsize]\n",
    "        save_as_matlab(data, output_file)"
   ]
  },
  {
   "cell_type": "markdown",
   "metadata": {},
   "source": [
    "**Number of Sequences**"
   ]
  },
  {
   "cell_type": "code",
   "execution_count": 105,
   "metadata": {},
   "outputs": [
    {
     "name": "stdout",
     "output_type": "stream",
     "text": [
      "Total of files: 1453\n",
      "{'normal': 49, 'normal_imbalanced_6': 49, 'normal_imbalanced_10': 48, 'normal_imbalanced_15': 48, 'normal_imbalanced_20': 49, 'normal_imbalanced_25': 47, 'normal_imbalanced_30': 47, 'normal_imbalanced_35': 45, 'ball_overhang_0': 49, 'ball_overhang_6': 43, 'ball_overhang_20': 25, 'ball_overhang_35': 20, 'cage_overhang_0': 49, 'cage_overhang_6': 49, 'cage_overhang_20': 49, 'cage_overhang_35': 41, 'outer_overhang_0': 49, 'outer_overhang_6': 49, 'outer_overhang_20': 49, 'outer_overhang_35': 41, 'ball_underhang_0': 50, 'ball_underhang_6': 49, 'ball_underhang_20': 49, 'ball_underhang_35': 38, 'cage_underhang_0': 49, 'cage_underhang_6': 48, 'cage_underhang_20': 49, 'cage_underhang_35': 42, 'outer_underhang_0': 49, 'outer_underhang_6': 49, 'outer_underhang_20': 49, 'outer_underhang_35': 37}\n",
      "1453\n"
     ]
    }
   ],
   "source": [
    "import re\n",
    "\n",
    "list_files = list_files_in_directory('raw_mafaulda_matlab')\n",
    "print(f\"Total of files: {len(list_files)}\")\n",
    "\n",
    "\n",
    "counter = {\n",
    "    'normal': 0,\n",
    "    'normal_imbalanced_6': 0,\n",
    "    'normal_imbalanced_10': 0,\n",
    "    'normal_imbalanced_15': 0,\n",
    "    'normal_imbalanced_20': 0,\n",
    "    'normal_imbalanced_25': 0,\n",
    "    'normal_imbalanced_30': 0,\n",
    "    'normal_imbalanced_35': 0,\n",
    "    'ball_overhang_0': 0,\n",
    "    'ball_overhang_6': 0,\n",
    "    'ball_overhang_20': 0,\n",
    "    'ball_overhang_35': 0,\n",
    "    'cage_overhang_0': 0,\n",
    "    'cage_overhang_6': 0,\n",
    "    'cage_overhang_20': 0,\n",
    "    'cage_overhang_35': 0,\n",
    "    'outer_overhang_0': 0,\n",
    "    'outer_overhang_6': 0,\n",
    "    'outer_overhang_20': 0,\n",
    "    'outer_overhang_35': 0,\n",
    "    'ball_underhang_0': 0,\n",
    "    'ball_underhang_6': 0,\n",
    "    'ball_underhang_20': 0,\n",
    "    'ball_underhang_35': 0,\n",
    "    'cage_underhang_0': 0,\n",
    "    'cage_underhang_6': 0,\n",
    "    'cage_underhang_20': 0,\n",
    "    'cage_underhang_35': 0,\n",
    "    'outer_underhang_0': 0,\n",
    "    'outer_underhang_6': 0,\n",
    "    'outer_underhang_20': 0,\n",
    "    'outer_underhang_35': 0,\n",
    "}\n",
    "\n",
    "for file in list_files:\n",
    "    # N_0_20_24.mat   \n",
    "    for key in counter.keys():        \n",
    "\n",
    "        match_key = re.search(r'(\\w+)_(\\w+)_(\\d+)', key)      \n",
    "        match_file = re.search(r'(\\w+)_(\\w+)_(\\d+)_\\d+.mat', file)\n",
    "        \n",
    "        if match_key and match_file:\n",
    "\n",
    "            label_key = match_key.group(1)[0].upper()\n",
    "            position_key = match_key.group(2)[0].upper()\n",
    "            load_key = match_key.group(3)\n",
    "\n",
    "            label_file = match_file.group(1)\n",
    "            position_file = match_file.group(2)\n",
    "            load_file = match_file.group(3)\n",
    "\n",
    "            if label_key == label_file and position_key == position_file and load_key == load_file:  \n",
    "                counter[key] = counter[key] + 1\n",
    "            \n",
    "            if label_key == label_file and position_key == 'I' and load_key == load_file:  \n",
    "                counter[key] = counter[key] + 1\n",
    "\n",
    "        else:\n",
    "            if key == 'normal':\n",
    "                if file[0] == 'N' and file[4] == '0':\n",
    "                    counter['normal'] = counter['normal'] + 1\n",
    "\n",
    "\n",
    "print(counter)\n",
    "total = sum([i for i in counter.values()])\n",
    "print(total)"
   ]
  },
  {
   "cell_type": "code",
   "execution_count": 71,
   "metadata": {},
   "outputs": [
    {
     "name": "stdout",
     "output_type": "stream",
     "text": [
      "25\n"
     ]
    }
   ],
   "source": [
    "# saving the files in a npy file\n",
    "acquisition_maxsize = 420_000\n",
    "directory = \"raw_mafalda/overhang/ball_fault/20g\"\n",
    "print(len(list_files_in_directory(directory)))\n",
    "files = list_files_in_directory(directory)\n",
    "\n",
    "# create_directory(\"raw_mafaulda_npy\")\n",
    "# create_directory(\"raw_mafaulda_mat\")\n",
    "for index, file in enumerate(files):\n",
    "    path = os.path.join(directory, file)\n",
    "    data = read_csv_data(path)[:acquisition_maxsize]\n",
    "    if data['Underhang_Axial'].shape[0] != 250_000:\n",
    "        print(\"Diferente\")\n",
    "\n",
    "    # save_as_numpy_array(data, f\"raw_mafaulda_npy/N_{index}\") # fault_load_index\n",
    "    # save_as_matlab(data, f\"raw_mafaulda_mat/N_0_{index}.mat\")"
   ]
  },
  {
   "cell_type": "markdown",
   "metadata": {},
   "source": [
    "**Variância**"
   ]
  },
  {
   "cell_type": "code",
   "execution_count": 108,
   "metadata": {},
   "outputs": [],
   "source": [
    "import pandas as pd\n",
    "import matplotlib.pyplot as plt\n",
    "from pandas.plotting import autocorrelation_plot\n",
    "\n",
    "directory = \"raw_mafaulda/normal\"\n",
    "files = list_files_in_directory(directory)\n",
    "\n",
    "variances_diff = {}\n",
    "for file in files:\n",
    "    path = os.path.join(directory, file)\n",
    "    data = read_csv_data(path)\n",
    "    df = pd.DataFrame(data)\n",
    "    \n",
    "    vars = {\n",
    "        'Underhang_Axial': [],\n",
    "        'Underhang_Radial': [],\n",
    "        'Underhang_Tangential': [],\n",
    "        'Overhang_Axial': [],\n",
    "        'Overhang_Radial': [],\n",
    "        'Overhang_Tangential': []\n",
    "    }\n",
    "    means = {\n",
    "        'Underhang_Axial': [],\n",
    "        'Underhang_Radial': [],\n",
    "        'Underhang_Tangential': [],\n",
    "        'Overhang_Axial': [],\n",
    "        'Overhang_Radial': [],\n",
    "        'Overhang_Tangential': []\n",
    "    }\n",
    "    \n",
    "    for step in range(0, 250_000, 25_000):\n",
    "        for position in vars.keys():\n",
    "            vars[position].append(df[step:step+25_000][position].var())\n",
    "            means[position].append(df[step:step+25_000][position].mean())\n",
    "    \n",
    "    # variance\n",
    "    var_diff = {}\n",
    "    for key, values in vars.items():\n",
    "        diff = max(values)-min(values)\n",
    "        var_diff[key] = diff\n",
    "        if diff >= 10:\n",
    "            print(f'{file}[{key}]  Is >= 10!')\n",
    "\n",
    "    # mean\n",
    "    mean_diff = {}\n",
    "    for key, values in means.items():\n",
    "        diff = max(values)-min(values)\n",
    "        mean_diff[key] = diff\n",
    "        if diff >= 10:\n",
    "            print(f'{file}[{key}]  Is >= 10!')\n",
    "\n",
    "    variances_diff[file] = var_diff\n",
    "\n",
    "var_df = pd.DataFrame(variances_diff)\n"
   ]
  },
  {
   "cell_type": "code",
   "execution_count": 45,
   "metadata": {},
   "outputs": [
    {
     "name": "stdout",
     "output_type": "stream",
     "text": [
      "Arquivos com variância máxima\n",
      "Underhang_Axial         15.1552.csv\n",
      "Underhang_Radial        44.6464.csv\n",
      "Underhang_Tangential    59.5968.csv\n",
      "Overhang_Axial          17.2032.csv\n",
      "Overhang_Radial         27.4432.csv\n",
      "Overhang_Tangential      60.416.csv\n",
      "dtype: object\n",
      "\n",
      "Arquivos com variância mínima\n",
      "Underhang_Axial         33.5872.csv\n",
      "Underhang_Radial         12.288.csv\n",
      "Underhang_Tangential     12.288.csv\n",
      "Overhang_Axial          52.4288.csv\n",
      "Overhang_Radial         34.2016.csv\n",
      "Overhang_Tangential     27.4432.csv\n",
      "dtype: object\n"
     ]
    }
   ],
   "source": [
    "df = var_df.T\n",
    "\n",
    "idxmax = df.idxmax()\n",
    "idxmin = df.idxmin()\n",
    "\n",
    "print('Arquivos com variância máxima')\n",
    "print(idxmax)\n",
    "print()\n",
    "print('Arquivos com variância mínima')\n",
    "print(idxmin)"
   ]
  },
  {
   "cell_type": "code",
   "execution_count": 51,
   "metadata": {},
   "outputs": [
    {
     "data": {
      "text/html": [
       "<div>\n",
       "<style scoped>\n",
       "    .dataframe tbody tr th:only-of-type {\n",
       "        vertical-align: middle;\n",
       "    }\n",
       "\n",
       "    .dataframe tbody tr th {\n",
       "        vertical-align: top;\n",
       "    }\n",
       "\n",
       "    .dataframe thead th {\n",
       "        text-align: right;\n",
       "    }\n",
       "</style>\n",
       "<table border=\"1\" class=\"dataframe\">\n",
       "  <thead>\n",
       "    <tr style=\"text-align: right;\">\n",
       "      <th></th>\n",
       "      <th>Underhang_Axial</th>\n",
       "      <th>Underhang_Radial</th>\n",
       "      <th>Underhang_Tangential</th>\n",
       "      <th>Overhang_Axial</th>\n",
       "      <th>Overhang_Radial</th>\n",
       "      <th>Overhang_Tangential</th>\n",
       "    </tr>\n",
       "  </thead>\n",
       "  <tbody>\n",
       "    <tr>\n",
       "      <th>59.5968.csv</th>\n",
       "      <td>0.037193</td>\n",
       "      <td>0.026920</td>\n",
       "      <td>0.011326</td>\n",
       "      <td>0.050278</td>\n",
       "      <td>0.001473</td>\n",
       "      <td>0.510674</td>\n",
       "    </tr>\n",
       "    <tr>\n",
       "      <th>61.44.csv</th>\n",
       "      <td>0.013038</td>\n",
       "      <td>0.008842</td>\n",
       "      <td>0.009581</td>\n",
       "      <td>0.020549</td>\n",
       "      <td>0.000610</td>\n",
       "      <td>0.176384</td>\n",
       "    </tr>\n",
       "    <tr>\n",
       "      <th>48.9472.csv</th>\n",
       "      <td>0.033444</td>\n",
       "      <td>0.020120</td>\n",
       "      <td>0.007852</td>\n",
       "      <td>0.173808</td>\n",
       "      <td>0.000576</td>\n",
       "      <td>0.040978</td>\n",
       "    </tr>\n",
       "    <tr>\n",
       "      <th>46.2848.csv</th>\n",
       "      <td>0.015667</td>\n",
       "      <td>0.034454</td>\n",
       "      <td>0.007677</td>\n",
       "      <td>0.068435</td>\n",
       "      <td>0.000087</td>\n",
       "      <td>0.050701</td>\n",
       "    </tr>\n",
       "  </tbody>\n",
       "</table>\n",
       "</div>"
      ],
      "text/plain": [
       "             Underhang_Axial  Underhang_Radial  Underhang_Tangential  \\\n",
       "59.5968.csv         0.037193          0.026920              0.011326   \n",
       "61.44.csv           0.013038          0.008842              0.009581   \n",
       "48.9472.csv         0.033444          0.020120              0.007852   \n",
       "46.2848.csv         0.015667          0.034454              0.007677   \n",
       "\n",
       "             Overhang_Axial  Overhang_Radial  Overhang_Tangential  \n",
       "59.5968.csv        0.050278         0.001473             0.510674  \n",
       "61.44.csv          0.020549         0.000610             0.176384  \n",
       "48.9472.csv        0.173808         0.000576             0.040978  \n",
       "46.2848.csv        0.068435         0.000087             0.050701  "
      ]
     },
     "execution_count": 51,
     "metadata": {},
     "output_type": "execute_result"
    }
   ],
   "source": [
    "largest = df.nlargest(4, 'Underhang_Axial')\n",
    "largest2 = df.nlargest(4, 'Underhang_Radial')\n",
    "largest3 = df.nlargest(4, 'Underhang_Tangential')\n",
    "largest3"
   ]
  },
  {
   "cell_type": "code",
   "execution_count": 32,
   "metadata": {},
   "outputs": [
    {
     "data": {
      "text/plain": [
       "49"
      ]
     },
     "execution_count": 32,
     "metadata": {},
     "output_type": "execute_result"
    }
   ],
   "source": [
    "dir = \"raw_mafalda/underhang/cage_fault/20g\"\n",
    "files_name = list_files_in_directory(dir)\n",
    "len(files_name)"
   ]
  },
  {
   "cell_type": "markdown",
   "metadata": {},
   "source": [
    "##### Ball Fault"
   ]
  },
  {
   "cell_type": "code",
   "execution_count": 28,
   "metadata": {},
   "outputs": [
    {
     "name": "stdout",
     "output_type": "stream",
     "text": [
      "Directory already exists: raw_mafalda_npy\n",
      "Data saved as numpy array successfully.\n",
      "Data saved as numpy array successfully.\n",
      "Data saved as numpy array successfully.\n",
      "Data saved as numpy array successfully.\n",
      "Data saved as numpy array successfully.\n",
      "Data saved as numpy array successfully.\n",
      "Data saved as numpy array successfully.\n",
      "Data saved as numpy array successfully.\n",
      "Data saved as numpy array successfully.\n",
      "Data saved as numpy array successfully.\n",
      "Data saved as numpy array successfully.\n",
      "Data saved as numpy array successfully.\n",
      "Data saved as numpy array successfully.\n",
      "Data saved as numpy array successfully.\n",
      "Data saved as numpy array successfully.\n",
      "Data saved as numpy array successfully.\n",
      "Data saved as numpy array successfully.\n",
      "Data saved as numpy array successfully.\n",
      "Data saved as numpy array successfully.\n",
      "Data saved as numpy array successfully.\n",
      "Data saved as numpy array successfully.\n",
      "Data saved as numpy array successfully.\n",
      "Data saved as numpy array successfully.\n",
      "Data saved as numpy array successfully.\n",
      "Data saved as numpy array successfully.\n",
      "Data saved as numpy array successfully.\n",
      "Data saved as numpy array successfully.\n",
      "Data saved as numpy array successfully.\n",
      "Data saved as numpy array successfully.\n",
      "Data saved as numpy array successfully.\n",
      "Data saved as numpy array successfully.\n",
      "Data saved as numpy array successfully.\n",
      "Data saved as numpy array successfully.\n",
      "Data saved as numpy array successfully.\n",
      "Data saved as numpy array successfully.\n",
      "Data saved as numpy array successfully.\n",
      "Data saved as numpy array successfully.\n",
      "Data saved as numpy array successfully.\n",
      "Data saved as numpy array successfully.\n",
      "Data saved as numpy array successfully.\n",
      "Data saved as numpy array successfully.\n",
      "Data saved as numpy array successfully.\n",
      "Data saved as numpy array successfully.\n",
      "Data saved as numpy array successfully.\n",
      "Data saved as numpy array successfully.\n",
      "Data saved as numpy array successfully.\n",
      "Data saved as numpy array successfully.\n",
      "Data saved as numpy array successfully.\n",
      "Data saved as numpy array successfully.\n",
      "Data saved as numpy array successfully.\n",
      "Data saved as numpy array successfully.\n",
      "Data saved as numpy array successfully.\n",
      "Data saved as numpy array successfully.\n",
      "Data saved as numpy array successfully.\n",
      "Data saved as numpy array successfully.\n",
      "Data saved as numpy array successfully.\n",
      "Data saved as numpy array successfully.\n",
      "Data saved as numpy array successfully.\n",
      "Data saved as numpy array successfully.\n",
      "Data saved as numpy array successfully.\n",
      "Data saved as numpy array successfully.\n",
      "Data saved as numpy array successfully.\n",
      "Data saved as numpy array successfully.\n",
      "Data saved as numpy array successfully.\n",
      "Data saved as numpy array successfully.\n",
      "Data saved as numpy array successfully.\n",
      "Data saved as numpy array successfully.\n",
      "Data saved as numpy array successfully.\n",
      "Data saved as numpy array successfully.\n",
      "Data saved as numpy array successfully.\n",
      "Data saved as numpy array successfully.\n",
      "Data saved as numpy array successfully.\n",
      "Data saved as numpy array successfully.\n",
      "Data saved as numpy array successfully.\n",
      "Data saved as numpy array successfully.\n",
      "Data saved as numpy array successfully.\n",
      "Data saved as numpy array successfully.\n",
      "Data saved as numpy array successfully.\n",
      "Data saved as numpy array successfully.\n",
      "Data saved as numpy array successfully.\n",
      "Data saved as numpy array successfully.\n",
      "Data saved as numpy array successfully.\n",
      "Data saved as numpy array successfully.\n",
      "Data saved as numpy array successfully.\n",
      "Data saved as numpy array successfully.\n",
      "Error reading the CSV file: Error tokenizing data. C error: Calling read(nbytes) on source failed. Try engine='python'.\n"
     ]
    },
    {
     "ename": "TypeError",
     "evalue": "'NoneType' object is not subscriptable",
     "output_type": "error",
     "traceback": [
      "\u001b[0;31m---------------------------------------------------------------------------\u001b[0m",
      "\u001b[0;31mTypeError\u001b[0m                                 Traceback (most recent call last)",
      "Cell \u001b[0;32mIn[28], line 21\u001b[0m\n\u001b[1;32m     19\u001b[0m \u001b[38;5;28;01mfor\u001b[39;00m index, file \u001b[38;5;129;01min\u001b[39;00m \u001b[38;5;28menumerate\u001b[39m(files):\n\u001b[1;32m     20\u001b[0m     path \u001b[38;5;241m=\u001b[39m os\u001b[38;5;241m.\u001b[39mpath\u001b[38;5;241m.\u001b[39mjoin(directory, file)\n\u001b[0;32m---> 21\u001b[0m     data \u001b[38;5;241m=\u001b[39m \u001b[43mread_csv_data\u001b[49m\u001b[43m(\u001b[49m\u001b[43mpath\u001b[49m\u001b[43m)\u001b[49m\u001b[43m[\u001b[49m\u001b[43m:\u001b[49m\u001b[43macquisition_maxsize\u001b[49m\u001b[43m]\u001b[49m\n\u001b[1;32m     22\u001b[0m     save_as_numpy_array(data, \u001b[38;5;124mf\u001b[39m\u001b[38;5;124m\"\u001b[39m\u001b[38;5;124mraw_mafalda_npy/b_\u001b[39m\u001b[38;5;132;01m{\u001b[39;00mposition[\u001b[38;5;241m0\u001b[39m]\u001b[38;5;132;01m}\u001b[39;00m\u001b[38;5;124m_\u001b[39m\u001b[38;5;132;01m{\u001b[39;00mload\u001b[38;5;132;01m}\u001b[39;00m\u001b[38;5;124m_\u001b[39m\u001b[38;5;132;01m{\u001b[39;00mindex\u001b[38;5;132;01m}\u001b[39;00m\u001b[38;5;124m\"\u001b[39m)\n",
      "\u001b[0;31mTypeError\u001b[0m: 'NoneType' object is not subscriptable"
     ]
    }
   ],
   "source": [
    "import re\n",
    "\n",
    "directories = [\n",
    "    \"raw_mafalda/overhang/ball_fault/0g\",\n",
    "    \"raw_mafalda/overhang/ball_fault/6g\",\n",
    "    \"raw_mafalda/overhang/ball_fault/20g\",\n",
    "    \"raw_mafalda/overhang/ball_fault/35g\",\n",
    "    \"raw_mafalda/underhang/ball_fault/0g\",\n",
    "    \"raw_mafalda/underhang/ball_fault/6g\",\n",
    "    \"raw_mafalda/underhang/ball_fault/20g\",\n",
    "    \"raw_mafalda/underhang/ball_fault/35g\",\n",
    "]\n",
    "\n",
    "create_directory(\"raw_mafalda_npy\")\n",
    "for directory in directories:\n",
    "    files = list_files_in_directory(directory)\n",
    "    load = re.findall(r\"(\\d+)g\", directory)[0]\n",
    "    position = re.findall(r\"overhang|underhang\", directory)[0]\n",
    "    for index, file in enumerate(files):\n",
    "        path = os.path.join(directory, file)\n",
    "        data = read_csv_data(path)[:acquisition_maxsize]\n",
    "        save_as_numpy_array(data, f\"raw_mafalda_npy/b_{position[0]}_{load}_{index}\")"
   ]
  },
  {
   "cell_type": "markdown",
   "metadata": {},
   "source": [
    "#### Checking storage reduction of npy files "
   ]
  },
  {
   "cell_type": "code",
   "execution_count": 24,
   "metadata": {},
   "outputs": [
    {
     "name": "stdout",
     "output_type": "stream",
     "text": [
      "Size of CSV file: 31783.83728122711 MB\n",
      "Size of Array Numpy file: 747.6866455078125 MB\n",
      "Size of Matlab file: 747.7143096923828 MB\n"
     ]
    }
   ],
   "source": [
    "# considering the reduction in the amount of sample data to 420_000 in the npy file\n",
    "\n",
    "total_size_csv = total_size_of_files(\"raw_mafalda\")/(1024*1024)\n",
    "total_size_npy = total_size_of_files(\"raw_mafaulda_npy\")/(1024*1024)\n",
    "total_size_mat = total_size_of_files(\"raw_mafaulda_mat\")/(1024*1024)\n",
    "\n",
    "print(\"Size of CSV file:\", total_size_csv, \"MB\")\n",
    "print(\"Size of Array Numpy file:\", total_size_npy, \"MB\")\n",
    "print(\"Size of Matlab file:\", total_size_mat, \"MB\")"
   ]
  },
  {
   "cell_type": "markdown",
   "metadata": {},
   "source": []
  },
  {
   "cell_type": "markdown",
   "metadata": {},
   "source": [
    "## Construindo gráficos"
   ]
  },
  {
   "cell_type": "code",
   "execution_count": null,
   "metadata": {},
   "outputs": [],
   "source": [
    "print(data.shape)\n",
    "plt.plot(data)\n",
    "plot_fft(label='B500', key='data', sample_size=5000)\n",
    "plot_fft(label='B500', key='ru', sample_size=5000)\n"
   ]
  },
  {
   "cell_type": "markdown",
   "metadata": {},
   "source": [
    "## Espectograma"
   ]
  },
  {
   "cell_type": "code",
   "execution_count": null,
   "metadata": {},
   "outputs": [],
   "source": [
    "import numpy as np\n",
    "import matplotlib.pyplot as plt\n",
    "from scipy import signal\n",
    "from IPython.display import display, clear_output\n",
    "import time\n",
    "\n",
    "nperseg = 505 # segments for the image\n",
    "noverlap = 460 # over lap per image used\n",
    "segment_size = 512 # setting size of image\n",
    "\n",
    "def spectogram_plot(data, fs):\n",
    "    for i in range(0, segment_size*100, segment_size):\n",
    "        print(f'segment = data[{i}:{segment_size}]')\n",
    "        segment = data[i:i+segment_size]\n",
    "        f, t, Sxx = signal.stft(segment, nperseg=1024)\n",
    "        \n",
    "        plt.clf()\n",
    "\n",
    "        fig = plt.figure(figsize=(8, 6))\n",
    "        plt.imshow(np.fliplr(abs(Sxx).T).T, cmap='viridis', aspect='auto', extent=[t.min(), t.max(), f.min(), f.max()])\n",
    "        # can comment out plt.axis('off') to see the x and y axis\n",
    "        plt.ylabel('Frequency [kHz]')\n",
    "        plt.xlabel('Number of Samples')\n",
    "        plt.axis('off')\n",
    "\n",
    "        display(plt.gcf())        \n",
    "        clear_output(wait=True)        \n",
    "        time.sleep(0.5)"
   ]
  },
  {
   "cell_type": "code",
   "execution_count": null,
   "metadata": {},
   "outputs": [],
   "source": [
    "\n",
    "for key in ['B500']:\n",
    "    matlab_file = scipy.io.loadmat(os.path.join(cwd, files_path[key+'.mat']))\n",
    "    print(matlab_file['data'].shape)\n",
    "    data = matlab_file['data'].reshape(1,-1)[0][0:acquisition_maxsize]\n",
    "    spectogram_plot(data, fs=51_200)"
   ]
  },
  {
   "cell_type": "code",
   "execution_count": null,
   "metadata": {},
   "outputs": [],
   "source": [
    "import subprocess\n",
    "import csv\n",
    "from datetime import datetime\n",
    "\n",
    "def redirecionar_saida_para_csv(nome_do_arquivo):\n",
    "    def decorator(funcao):\n",
    "        @wraps(funcao)\n",
    "        def wrapper(*args, **kwargs):\n",
    "            try:\n",
    "                # Execute a função e capture a saída\n",
    "                resultado = funcao(*args, **kwargs)\n",
    "\n",
    "                # Abra o arquivo CSV para escrita (modo \"a\" para adicionar ao arquivo)\n",
    "                with open(nome_do_arquivo, \"a\", newline=\"\") as arquivo_csv:\n",
    "                    writer = csv.writer(arquivo_csv)\n",
    "\n",
    "                    # Escreva a saída no arquivo CSV com data e hora\n",
    "                    data_hora_atual = datetime.now().strftime(\"%Y-%m-%d %H:%M:%S\")\n",
    "                    writer.writerow([f\"Execução em {data_hora_atual}\"])\n",
    "                    writer.writerow([resultado])\n",
    "                    writer.writerow([\"-\" * 40])  # Linha divisória\n",
    "\n",
    "                print(f\"Saída salva em {nome_do_arquivo}\")\n",
    "            except subprocess.CalledProcessError:\n",
    "                print(\"Erro ao executar o programa.\")\n",
    "\n",
    "        return wrapper\n",
    "\n",
    "    return decorator\n",
    "\n",
    "# Exemplo de uso:\n",
    "@redirecionar_saida_para_csv(\"saida.csv\")\n",
    "def meu_programa():\n",
    "    # Suponha que você tenha algum resultado a ser exibido\n",
    "    resultado = \"Isso é um exemplo de saída.\"\n",
    "    return resultado\n",
    "\n",
    "@redirecionar_saida_para_csv(\"saida.csv\")\n",
    "def minha_funcao():\n",
    "    # Suponha que você tenha algum resultado a ser exibido\n",
    "    resultado = \"Meu exemplo.\"\n",
    "    return resultado\n",
    "\n",
    "\n",
    "if __name__ == \"__main__\":\n",
    "\n",
    "    meu_programa()\n",
    "    # minha_funcao()\n"
   ]
  },
  {
   "cell_type": "code",
   "execution_count": null,
   "metadata": {},
   "outputs": [],
   "source": [
    "import sys\n",
    "import csv\n",
    "from datetime import datetime\n",
    "\n",
    "def log_experiment(func):\n",
    "    def wrapper(*args, **kwargs):\n",
    "        timestamp = datetime.now().strftime(\"%Y-%m-%d_%H-%M-%S\")\n",
    "        filename = f\"log_{timestamp}.csv\"\n",
    "        \n",
    "        with open(filename, 'w', newline='') as csvfile:\n",
    "            writer = csv.writer(csvfile)            \n",
    "           \n",
    "            original_stdout = sys.stdout\n",
    "            sys.stdout = csvfile\n",
    "            \n",
    "            result = func(*args, **kwargs)\n",
    "            \n",
    "            sys.stdout = original_stdout\n",
    "            \n",
    "            # Retorna o resultado da função original\n",
    "            return result\n",
    "    \n",
    "    return wrapper\n",
    "\n",
    "# Exemplo de uso do decorator\n",
    "@log_experiment\n",
    "def example_function():\n",
    "    print(\"Esta é uma mensagem de exemplo.\")\n",
    "    print(\"Outra mensagem de exemplo.\")\n",
    "    # Pode haver mais prints ou operações aqui.\n",
    "\n",
    "# Chamando a função decorada\n",
    "example_function()\n"
   ]
  },
  {
   "cell_type": "markdown",
   "metadata": {},
   "source": [
    "## Graphics"
   ]
  },
  {
   "cell_type": "code",
   "execution_count": 13,
   "metadata": {},
   "outputs": [
    {
     "data": {
      "text/plain": [
       "[<matplotlib.lines.Line2D at 0x7abd6cc5cee0>]"
      ]
     },
     "execution_count": 13,
     "metadata": {},
     "output_type": "execute_result"
    },
    {
     "data": {
      "image/png": "[encoded data removed]",
      "text/plain": [
       "<Figure size 1200x300 with 1 Axes>"
      ]
     },
     "metadata": {},
     "output_type": "display_data"
    }
   ],
   "source": [
    "import matplotlib.pyplot as plt\n",
    "\n",
    "filepath = \"raw_mafaulda_matlab/B_O_0_0.mat\"\n",
    "data = read_matlab_file(filepath)\n",
    "data = data['Underhang_Radial']\n",
    "data = data[:, :100][0]\n",
    "df = pd.DataFrame(data)\n",
    "plt.figure(figsize=(12, 3))\n",
    "plt.plot(df)"
   ]
  },
  {
   "cell_type": "code",
   "execution_count": 15,
   "metadata": {},
   "outputs": [],
   "source": [
    "def downsample(data, original_freq, post_freq):\n",
    "    step = 1 / abs(original_freq - post_freq)\n",
    "\n",
    "    indices_to_delete = [i for i in range(0, np.size(data), round(step*original_freq))]\n",
    "\n",
    "    return np.delete(data, indices_to_delete)\n"
   ]
  },
  {
   "cell_type": "code",
   "execution_count": 23,
   "metadata": {},
   "outputs": [
    {
     "data": {
      "text/plain": [
       "(83,)"
      ]
     },
     "execution_count": 23,
     "metadata": {},
     "output_type": "execute_result"
    }
   ],
   "source": [
    "resampled_data = downsample(data, 11, 9)\n",
    "resampled_data.shape"
   ]
  }
 ],
 "metadata": {
  "kernelspec": {
   "display_name": "env",
   "language": "python",
   "name": "python3"
  },
  "language_info": {
   "codemirror_mode": {
    "name": "ipython",
    "version": 3
   },
   "file_extension": ".py",
   "mimetype": "text/x-python",
   "name": "python",
   "nbconvert_exporter": "python",
   "pygments_lexer": "ipython3",
   "version": "3.10.12"
  }
 },
 "nbformat": 4,
 "nbformat_minor": 2
}
