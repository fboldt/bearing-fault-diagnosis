{
 "cells": [
  {
   "cell_type": "markdown",
   "metadata": {},
   "source": [
    "# Data sets"
   ]
  },
  {
   "cell_type": "markdown",
   "metadata": {},
   "source": [
    "## UORED"
   ]
  },
  {
   "cell_type": "markdown",
   "metadata": {},
   "source": [
    "**Dataset design**\n",
    "\n",
    "* Constant load and speed 0 N, 400 N and 1750 RPM (except for ball fault, that no load was applied)\n",
    "* sampling rate: 42,000 Hz\n",
    "* total of data sample: 420,000\n",
    "* Each bearing has natural and stochastic inclusions\n",
    "\n",
    "| accelerometer data | acoustic data | motor speed | load | tempeture |\n",
    "|--------------------|---------------|-------------|------|-----------|\n",
    "| ...                | ...           | ...         | ...  | ...       |\n",
    "\n",
    "* Each raw data sample is labeled with the format {final condition}-{number of specific bearing}-{bearing conditions}\n",
    "* final condition: H, I, O, B, C\n",
    "* number of specific bearing: 1 - 20\n",
    "* bearing conditions: \n",
    "  * \"0\": healthy bearing, \n",
    "  * \"1\": developing fault, \n",
    "  * \"2\": faulty bearing.\n",
    "\n",
    "\n",
    "| Bearing health condition        |         |         |         |         |         |\n",
    "|---------------------------------|---------|---------|---------|---------|---------|\n",
    "| **Healthy**                     | H-1-0   | H-2-0   | H-3-0   | H-4-0   | H-5-0   |\n",
    "|                                 | H-6-0   | H-7-0   | H-8-0   | H-9-0   | H-10-0  |\n",
    "|                                 | H-11-0  | H-12-0  | H-13-0  | H-14-0  | H-15-0  |\n",
    "|                                 | H-16-0  | H-17-0  | H-18-0  | H-19-0  | H-20-0  |\n",
    "| **Developing fault (inner race)** | I-1-1   | I-2-1 | I-3-1   | I-4-1   | I-5-1   |\n",
    "| **Faulty (inner race)**         | I-1-2   | I-2-2   | I-3-2   | I-4-2   | I-5-2   |\n",
    "| **Developing fault (outer race)** | O-6-1  | O-7-1  |  O-8-1  | O-9-1   | O-10-1  |          |\n",
    "| **Faulty (outer race)**         | O-6-2   | O-7-2   | O-8-2   | O-9-2   | O-10-2  |\n",
    "| **Developing fault (ball)**     | B-11-1  | B-12-1  | B-13-1  | B-14-1  | B-15-1  |\n",
    "| **Faulty (ball)**               | B-11-2  | B-12-2  | B-13-2  | B-14-2  | B-15-2  |\n",
    "| **Developing fault (cage)**     | C-16-1  | C-17-1  | C-18-1  | C-19-1  | C-20-1  |\n",
    "| **Faulty (cage)**               | C-16-2  | C-17-2  | C-18-2  | C-19-2  | C-20-2  |\n",
    "\n",
    "\n",
    "**Bearing specifications**\n",
    "\n",
    "| Bearing model | Pitch diameter | Ball diameter | Number of balls |\n",
    "----------------|----------------|---------------|-----------------|\n",
    "| NSK 6203ZZ    | 28.50 mm       | 6.77 mm       | 8               |\n",
    "| FAFNIR 203KD  | 28.50 mm       | 6.77 mm       | 8               |\n",
    "\n",
    "**Spectrogram images**\n",
    "\n",
    "* 24,000 images are provided: 12,000 from accelerometer signal and 12,000 from microphone signal.\n",
    "* format: {letter}-{number}-{number}-{image_number}\n",
    "  * each dataset contains 400 images\n"
   ]
  },
  {
   "cell_type": "markdown",
   "metadata": {},
   "source": [
    "## Paderborn"
   ]
  },
  {
   "cell_type": "markdown",
   "metadata": {},
   "source": [
    "### Description\n",
    "\n",
    "The description of this dataset is based on the article \"Condition Monitoring of Bearing Damage in Electromechanical Drive Systems by Using Motor Current Signals of Electric Motors: A Benchmark Data Set for Data-Driven Classification\".\n",
    "\n",
    "\n",
    "**1. CATEGORIZATION OF BEARING DEMAGE**\n",
    "\n",
    "ISO 15243 gives a methodology for the classification of bearing damage and failures.The six main damage modes are: \n",
    "* fatigue, \n",
    "* wear, \n",
    "* corrosion, \n",
    "* electrical erosion, \n",
    "* plastic deformation, and \n",
    "* fracture and cracking.\n",
    "\n",
    "Cada rolamento foi categorizado com as seguintes informações:\n",
    "* General info\n",
    "* Manufacturer specific information about bearing,\n",
    "    * Geometry\n",
    "    * Parameters\n",
    "    * Manufactorer\n",
    "* Application specific information, and\n",
    "    * Identification\n",
    "    * Place of operation\n",
    "    * Operation condition\n",
    "* Demage\n",
    "    * Type of Damage\n",
    "    * Damage location\n",
    "    * Geometry\n",
    "    * Damage occurrence\n",
    "\n",
    "Four-digit code for each specific bearing is used for identification. It consists of two letters and two numbers, e.g. KA01, KB23.\n",
    "\n",
    "\n",
    "**2. GENERATION OF BEARING DAMAGE**\n",
    "\n",
    "To keep the amount of experiments manageable, research was limited to ball bearings of type **6203**.\n",
    "\n",
    "Both types of damage exist at the **inner and outer ring** of the ball bearing 6203. For this paper bearings of the manufacturers **FAG, MTK and IBU/IBB** are used. All these bearings have eight rolling elements and the geometrical sizes are nearly identical, so that the characteristic kinematic frequencies do not vary more than 1-2%.\n",
    "\n",
    "2.1 Artificial Demage\n",
    "\n",
    "2.2 Real Demage\n"
   ]
  },
  {
   "cell_type": "code",
   "execution_count": 5,
   "metadata": {},
   "outputs": [],
   "source": [
    "def get_keys_cross():\n",
    "    list_severity = ['000', '007', '014', '021']\n",
    "    list_load = ['0', '1', '2', '3']\n",
    "    keys_selected = []\n",
    "    keys_ignore = []\n",
    "    all = []\n",
    "    for s in list_severity:\n",
    "        for l in list_load:\n",
    "            k = f'{s}_{l}'\n",
    "            all.append(k)\n",
    "            if s == '000':\n",
    "                continue\n",
    "                # keys_selected.append([k])\n",
    "                # keys_ignore.append([f'{i}_{l}' for i in list_severity if i != '000'])\n",
    "            else:\n",
    "                keys_selected.append([f'000_{l}', k])\n",
    "                keys_ignore.append([f'{i}_{l}' for i in list_severity if i!=s and i!='000']+[f'{s}_{i}' for i in list_load if i!=l])\n",
    "    return keys_selected, keys_ignore"
   ]
  },
  {
   "cell_type": "code",
   "execution_count": 4,
   "metadata": {},
   "outputs": [
    {
     "name": "stdout",
     "output_type": "stream",
     "text": [
      "test =  ['000_0', '007_0'], ignored = ['014_0', '021_0', '007_1', '007_2', '007_3']\n",
      "test =  ['000_1', '007_1'], ignored = ['014_1', '021_1', '007_0', '007_2', '007_3']\n",
      "test =  ['000_2', '007_2'], ignored = ['014_2', '021_2', '007_0', '007_1', '007_3']\n",
      "test =  ['000_3', '007_3'], ignored = ['014_3', '021_3', '007_0', '007_1', '007_2']\n",
      "test =  ['000_0', '014_0'], ignored = ['007_0', '021_0', '014_1', '014_2', '014_3']\n",
      "test =  ['000_1', '014_1'], ignored = ['007_1', '021_1', '014_0', '014_2', '014_3']\n",
      "test =  ['000_2', '014_2'], ignored = ['007_2', '021_2', '014_0', '014_1', '014_3']\n",
      "test =  ['000_3', '014_3'], ignored = ['007_3', '021_3', '014_0', '014_1', '014_2']\n",
      "test =  ['000_0', '021_0'], ignored = ['007_0', '014_0', '021_1', '021_2', '021_3']\n",
      "test =  ['000_1', '021_1'], ignored = ['007_1', '014_1', '021_0', '021_2', '021_3']\n",
      "test =  ['000_2', '021_2'], ignored = ['007_2', '014_2', '021_0', '021_1', '021_3']\n",
      "test =  ['000_3', '021_3'], ignored = ['007_3', '014_3', '021_0', '021_1', '021_2']\n"
     ]
    }
   ],
   "source": [
    "selected, ignored = get_keys_cross()\n",
    "\n",
    "\n",
    "\n",
    "for s, i in zip(selected, ignored):\n",
    "    train = \n",
    "    print(f'test =  {s}, ignored = {i}')\n",
    "\n"
   ]
  },
  {
   "cell_type": "code",
   "execution_count": 1,
   "metadata": {},
   "outputs": [
    {
     "name": "stdout",
     "output_type": "stream",
     "text": [
      "[['7_0' '7_1' '7_2' '7_3']\n",
      " ['14_0' '14_1' '14_2' '14_3']\n",
      " ['21_0' '21_1' '21_2' '21_3']\n",
      " ['28_0' '28_1' '28_2' '28_3']]\n"
     ]
    }
   ],
   "source": [
    "import numpy as np\n",
    "\n",
    "# Definindo a linha e a coluna\n",
    "linha = np.array([7, 14, 21, 28])\n",
    "coluna = np.array([0, 1, 2, 3])\n",
    "\n",
    "# Criando a matriz 4x4 com o cruzamento das posições (i, j) no formato requerido\n",
    "matriz_cruzamento = np.array([[f\"{linha[i]}_{coluna[j]}\" for j in range(4)] for i in range(4)])\n",
    "\n",
    "print(matriz_cruzamento)"
   ]
  },
  {
   "cell_type": "code",
   "execution_count": 6,
   "metadata": {},
   "outputs": [
    {
     "name": "stdout",
     "output_type": "stream",
     "text": [
      "None\n"
     ]
    }
   ],
   "source": [
    "def list_of_bearings_12k():\n",
    "    return [\n",
    "    (\"I.007.DE_0&12000\",\"105.mat\"),       (\"I.007.DE_1&12000\",\"106.mat\"),       (\"I.007.DE_2&12000\",\"107.mat\"),       (\"I.007.DE_3&12000\",\"108.mat\"),\n",
    "    (\"B.007.DE_0&12000\",\"118.mat\"),       (\"B.007.DE_1&12000\",\"119.mat\"),       (\"B.007.DE_2&12000\",\"120.mat\"),       (\"B.007.DE_3&12000\",\"121.mat\"),    \n",
    "    (\"O.007.DE.@6_0&12000\",\"130.mat\"),    (\"O.007.DE.@6_1&12000\",\"131.mat\"),    (\"O.007.DE.@6_2&12000\",\"132.mat\"),    (\"O.007.DE.@6_3&12000\",\"133.mat\"),    \n",
    "    (\"O.007.DE.@3_0&12000\",\"144.mat\"),    (\"O.007.DE.@3_1&12000\",\"145.mat\"),    (\"O.007.DE.@3_2&12000\",\"146.mat\"),    (\"O.007.DE.@3_3&12000\",\"147.mat\"),    \n",
    "    (\"O.007.DE.@12_0&12000\",\"156.mat\"),   (\"O.007.DE.@12_1&12000\",\"158.mat\"),   (\"O.007.DE.@12_2&12000\",\"159.mat\"),   (\"O.007.DE.@12_3&12000\",\"160.mat\"),    \n",
    "    (\"I.014.DE_0&12000\",\"169.mat\"),       (\"I.014.DE_1&12000\",\"170.mat\"),       (\"I.014.DE_2&12000\",\"171.mat\"),       (\"I.014.DE_3&12000\",\"172.mat\"),    \n",
    "    (\"B.014.DE_0&12000\",\"185.mat\"),       (\"B.014.DE_1&12000\",\"186.mat\"),       (\"B.014.DE_2&12000\",\"187.mat\"),       (\"B.014.DE_3&12000\",\"188.mat\"),    \n",
    "    (\"O.014.DE.@6_0&12000\",\"197.mat\"),    (\"O.014.DE.@6_1&12000\",\"198.mat\"),    (\"O.014.DE.@6_2&12000\",\"199.mat\"),    (\"O.014.DE.@6_3&12000\",\"200.mat\"),    \n",
    "    (\"I.021.DE_0&12000\",\"209.mat\"),       (\"I.021.DE_1&12000\",\"210.mat\"),       (\"I.021.DE_2&12000\",\"211.mat\"),       (\"I.021.DE_3&12000\",\"212.mat\"),    \n",
    "    (\"B.021.DE_0&12000\",\"222.mat\"),       (\"B.021.DE_1&12000\",\"223.mat\"),       (\"B.021.DE_2&12000\",\"224.mat\"),       (\"B.021.DE_3&12000\",\"225.mat\"),    \n",
    "    (\"O.021.DE.@6_0&12000\",\"234.mat\"),    (\"O.021.DE.@6_1&12000\",\"235.mat\"),    (\"O.021.DE.@6_2&12000\",\"236.mat\"),    (\"O.021.DE.@6_3&12000\",\"237.mat\"),    \n",
    "    (\"O.021.DE.@3_0&12000\",\"246.mat\"),    (\"O.021.DE.@3_1&12000\",\"247.mat\"),    (\"O.021.DE.@3_2&12000\",\"248.mat\"),    (\"O.021.DE.@3_3&12000\",\"249.mat\"),    \n",
    "    (\"O.021.DE.@12_0&12000\",\"258.mat\"),   (\"O.021.DE.@12_1&12000\",\"259.mat\"),   (\"O.021.DE.@12_2&12000\",\"260.mat\"),   (\"O.021.DE.@12_3&12000\",\"261.mat\"),    \n",
    "    (\"I.028.DE_0&12000\",\"3001.mat\"),      (\"I.028.DE_1&12000\",\"3002.mat\"),      (\"I.028.DE_2&12000\",\"3003.mat\"),      (\"I.028.DE_3&12000\",\"3004.mat\"),    \n",
    "    (\"B.028.DE_0&12000\",\"3005.mat\"),      (\"B.028.DE_1&12000\",\"3006.mat\"),      (\"B.028.DE_2&12000\",\"3007.mat\"),      (\"B.028.DE_3&12000\",\"3008.mat\"),\n",
    "    (\"I.007.FE_0&12000\",\"278.mat\"),       (\"I.007.FE_1&12000\",\"279.mat\"),       (\"I.007.FE_2&12000\",\"280.mat\"),       (\"I.007.FE_3&12000\",\"281.mat\"),    \n",
    "    (\"B.007.FE_0&12000\",\"282.mat\"),       (\"B.007.FE_1&12000\",\"283.mat\"),       (\"B.007.FE_2&12000\",\"284.mat\"),       (\"B.007.FE_3&12000\",\"285.mat\"),    \n",
    "    (\"O.007.FE.@6_0&12000\",\"294.mat\"),    (\"O.007.FE.@6_1&12000\",\"295.mat\"),    (\"O.007.FE.@6_2&12000\",\"296.mat\"),    (\"O.007.FE.@6_3&12000\",\"297.mat\"),    \n",
    "    (\"O.007.FE.@3_0&12000\",\"298.mat\"),    (\"O.007.FE.@3_1&12000\",\"299.mat\"),    (\"O.007.FE.@3_2&12000\",\"300.mat\"),    (\"O.007.FE.@3_3&12000\",\"301.mat\"),    \n",
    "    (\"O.007.FE.@12_0&12000\",\"302.mat\"),   (\"O.007.FE.@12_1&12000\",\"305.mat\"),   (\"O.007.FE.@12_2&12000\",\"306.mat\"),   (\"O.007.FE.@12_3&12000\",\"307.mat\"),    \n",
    "    (\"I.014.FE_0&12000\",\"274.mat\"),       (\"I.014.FE_1&12000\",\"275.mat\"),       (\"I.014.FE_2&12000\",\"276.mat\"),       (\"I.014.FE_3&12000\",\"277.mat\"),    \n",
    "    (\"B.014.FE_0&12000\",\"286.mat\"),       (\"B.014.FE_1&12000\",\"287.mat\"),       (\"B.014.FE_2&12000\",\"288.mat\"),       (\"B.014.FE_3&12000\",\"289.mat\"),    \n",
    "    (\"O.014.FE.@3_0&12000\",\"310.mat\"),    (\"O.014.FE.@3_1&12000\",\"309.mat\"),    (\"O.014.FE.@3_2&12000\",\"311.mat\"),    (\"O.014.FE.@3_3&12000\",\"312.mat\"),    \n",
    "    (\"O.014.FE.@6_0&12000\",\"313.mat\"),    \n",
    "    (\"I.021.FE_0&12000\",\"270.mat\"),       (\"I.021.FE_1&12000\",\"271.mat\"),       (\"I.021.FE_2&12000\",\"272.mat\"),       (\"I.021.FE_3&12000\",\"273.mat\"),    \n",
    "    (\"B.021.FE_0&12000\",\"290.mat\"),       (\"B.021.FE_1&12000\",\"291.mat\"),       (\"B.021.FE_2&12000\",\"292.mat\"),       (\"B.021.FE_3&12000\",\"293.mat\"),    \n",
    "    (\"O.021.FE.@6_0&12000\",\"315.mat\"),    (\"O.021.FE.@3_1&12000\",\"316.mat\"),    (\"O.021.FE.@3_2&12000\",\"317.mat\"),    (\"O.021.FE.@3_3&12000\",\"318.mat\"),    \n",
    "]\n",
    "def get_specifics_bearings(keys):\n",
    "    list_of_bearings = []\n",
    "    for bearing in list_of_bearings_12k():\n",
    "        label = f'{bearing[0][2:5]}_{bearing[0][-7]}'\n",
    "        if label in keys:\n",
    "            list_of_bearings.append(bearing)\n",
    "    return list_of_bearings\n",
    "print(get_specifics_bearings(['007_0', '014_1', '021_2', '028_3']))"
   ]
  }
 ],
 "metadata": {
  "kernelspec": {
   "display_name": "env",
   "language": "python",
   "name": "python3"
  },
  "language_info": {
   "codemirror_mode": {
    "name": "ipython",
    "version": 3
   },
   "file_extension": ".py",
   "mimetype": "text/x-python",
   "name": "python",
   "nbconvert_exporter": "python",
   "pygments_lexer": "ipython3",
   "version": "3.8.10"
  }
 },
 "nbformat": 4,
 "nbformat_minor": 2
}
