{
 "cells": [
  {
   "cell_type": "markdown",
   "metadata": {},
   "source": [
    "# UORED"
   ]
  },
  {
   "cell_type": "markdown",
   "metadata": {},
   "source": [
    "**Dataset design**\n",
    "\n",
    "* Constant load and speed 0 N, 400 N and 1750 RPM (except for ball fault, that no load was applied)\n",
    "* sampling rate: 42,000 Hz\n",
    "* total of data sample: 420,000\n",
    "* Each bearing has natural and stochastic inclusions\n",
    "\n",
    "| accelerometer data | acoustic data | motor speed | load | tempeture |\n",
    "|--------------------|---------------|-------------|------|-----------|\n",
    "| ...                | ...           | ...         | ...  | ...       |\n",
    "\n",
    "* Each raw data sample is labeled with the format {final condition}-{number of specific bearing}-{bearing conditions}\n",
    "* final condition: H, I, O, B, C\n",
    "* number of specific bearing: 1 - 20\n",
    "* bearing conditions: \n",
    "  * \"0\": healthy bearing, \n",
    "  * \"1\": developing fault, \n",
    "  * \"2\": faulty bearing.\n",
    "\n",
    "\n",
    "| Bearing health condition        |         |         |         |         |         |\n",
    "|---------------------------------|---------|---------|---------|---------|---------|\n",
    "| **Healthy**                     | H-1-0   | H-2-0   | H-3-0   | H-4-0   | H-5-0   |\n",
    "|                                 | H-6-0   | H-7-0   | H-8-0   | H-9-0   | H-10-0  |\n",
    "|                                 | H-11-0  | H-12-0  | H-13-0  | H-14-0  | H-15-0  |\n",
    "|                                 | H-16-0  | H-17-0  | H-18-0  | H-19-0  | H-20-0  |\n",
    "| **Developing fault (inner race)** | I-1-1   | I-2-1 | I-3-1   | I-4-1   | I-5-1   |\n",
    "| **Faulty (inner race)**         | I-1-2   | I-2-2   | I-3-2   | I-4-2   | I-5-2   |\n",
    "| **Developing fault (outer race)** | O-6-1  | O-7-1  |  O-8-1  | O-9-1   | O-10-1  |          |\n",
    "| **Faulty (outer race)**         | O-6-2   | O-7-2   | O-8-2   | O-9-2   | O-10-2  |\n",
    "| **Developing fault (ball)**     | B-11-1  | B-12-1  | B-13-1  | B-14-1  | B-15-1  |\n",
    "| **Faulty (ball)**               | B-11-2  | B-12-2  | B-13-2  | B-14-2  | B-15-2  |\n",
    "| **Developing fault (cage)**     | C-16-1  | C-17-1  | C-18-1  | C-19-1  | C-20-1  |\n",
    "| **Faulty (cage)**               | C-16-2  | C-17-2  | C-18-2  | C-19-2  | C-20-2  |\n",
    "\n",
    "\n",
    "**Bearing specifications**\n",
    "\n",
    "| Bearing model | Pitch diameter | Ball diameter | Number of balls |\n",
    "----------------|----------------|---------------|-----------------|\n",
    "| NSK 6203ZZ    | 28.50 mm       | 6.77 mm       | 8               |\n",
    "| FAFNIR 203KD  | 28.50 mm       | 6.77 mm       | 8               |\n",
    "\n",
    "**Spectrogram images**\n",
    "\n",
    "* 24,000 images are provided: 12,000 from accelerometer signal and 12,000 from microphone signal.\n",
    "* format: {letter}-{number}-{number}-{image_number}\n",
    "  * each dataset contains 400 images\n"
   ]
  },
  {
   "cell_type": "code",
   "execution_count": null,
   "metadata": {},
   "outputs": [],
   "source": []
  }
 ],
 "metadata": {
  "language_info": {
   "name": "python"
  }
 },
 "nbformat": 4,
 "nbformat_minor": 2
}
